{
  "nbformat": 4,
  "nbformat_minor": 0,
  "metadata": {
    "colab": {
      "name": "Untitled4.ipynb",
      "provenance": []
    },
    "kernelspec": {
      "name": "python3",
      "display_name": "Python 3"
    },
    "accelerator": "GPU"
  },
  "cells": [
    {
      "cell_type": "code",
      "metadata": {
        "id": "-ZzisTWcZDzw",
        "colab_type": "code",
        "outputId": "5b0399cf-9391-4c9d-c2c3-8496e659aec7",
        "colab": {
          "resources": {
            "http://localhost:8080/nbextensions/google.colab/files.js": {
              "data": "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",
              "ok": true,
              "headers": [
                [
                  "content-type",
                  "application/javascript"
                ]
              ],
              "status": 200,
              "status_text": ""
            }
          },
          "base_uri": "https://localhost:8080/",
          "height": 108
        }
      },
      "source": [
        "from google.colab import files\n",
        "uploaded = files.upload()"
      ],
      "execution_count": 1,
      "outputs": [
        {
          "output_type": "display_data",
          "data": {
            "text/html": [
              "\n",
              "     <input type=\"file\" id=\"files-4dcc1e00-3ed7-4bcd-a17e-ade33d2a0e34\" name=\"files[]\" multiple disabled />\n",
              "     <output id=\"result-4dcc1e00-3ed7-4bcd-a17e-ade33d2a0e34\">\n",
              "      Upload widget is only available when the cell has been executed in the\n",
              "      current browser session. Please rerun this cell to enable.\n",
              "      </output>\n",
              "      <script src=\"/nbextensions/google.colab/files.js\"></script> "
            ],
            "text/plain": [
              "<IPython.core.display.HTML object>"
            ]
          },
          "metadata": {
            "tags": []
          }
        },
        {
          "output_type": "stream",
          "text": [
            "Saving cornell_movie_conversations.txt to cornell_movie_conversations.txt\n",
            "Saving cornell_movie_lines.txt to cornell_movie_lines.txt\n"
          ],
          "name": "stdout"
        }
      ]
    },
    {
      "cell_type": "code",
      "metadata": {
        "id": "rCAGztkoc8eW",
        "colab_type": "code",
        "colab": {}
      },
      "source": [
        "filename=\"cornell_movie_lines.txt\"\n",
        "lines=uploaded[filename].decode(\"latin\").split('\\n')"
      ],
      "execution_count": 0,
      "outputs": []
    },
    {
      "cell_type": "code",
      "metadata": {
        "id": "S4gJqp3BdmJG",
        "colab_type": "code",
        "colab": {}
      },
      "source": [
        "filename1=\"cornell_movie_conversations.txt\"\n",
        "conv_lines=uploaded[filename1].decode(\"latin\").split('\\n')"
      ],
      "execution_count": 0,
      "outputs": []
    },
    {
      "cell_type": "code",
      "metadata": {
        "id": "env_DxAMAYmZ",
        "colab_type": "code",
        "colab": {}
      },
      "source": [
        "import sys\n",
        "import os\n",
        "import random\n",
        "import string\n",
        "import time\n",
        "import pickle\n",
        "import re\n",
        "import numpy as np\n",
        "import tensorflow as tf\n",
        "import matplotlib.pyplot as plt\n",
        "from tensorflow.keras import optimizers\n",
        "from tensorflow.keras.layers import add\n",
        "from tensorflow.keras.models import Model\n",
        "from tensorflow.keras import backend as K\n",
        "from tensorflow.keras.utils import plot_model\n",
        "from tensorflow.keras.callbacks import ReduceLROnPlateau\n",
        "from nltk.translate.bleu_score import corpus_bleu\n",
        "from tensorflow.keras.utils import to_categorical\n",
        "from tensorflow.keras.callbacks import ModelCheckpoint\n",
        "from tensorflow.keras.preprocessing.text import Tokenizer\n",
        "from tensorflow.keras.preprocessing.sequence import pad_sequences\n",
        "from tensorflow.keras.layers import Input, Dense, LSTM, GRU, TimeDistributed"
      ],
      "execution_count": 0,
      "outputs": []
    },
    {
      "cell_type": "code",
      "metadata": {
        "id": "Ue4kjp7XAYpv",
        "colab_type": "code",
        "colab": {}
      },
      "source": [
        "from tensorflow.keras.layers import Embedding, Dropout, Bidirectional, Concatenate, Lambda\n",
        "np.random.seed(1)\n",
        "random.seed(1)\n",
        "snapshot_folder = 'chatbot_weights_v2'"
      ],
      "execution_count": 0,
      "outputs": []
    },
    {
      "cell_type": "code",
      "metadata": {
        "id": "yFtNN0QDCtiE",
        "colab_type": "code",
        "outputId": "fdc177db-5a32-4932-f124-05122c640a39",
        "colab": {
          "base_uri": "https://localhost:8080/",
          "height": 34
        }
      },
      "source": [
        "test = False\n",
        "print('test: ', test)\n",
        "if test:\n",
        "    GRU_units = 10\n",
        "    batch_size = 4\n",
        "    emb_dim = 10\n",
        "else:\n",
        "    GRU_units = 256\n",
        "    batch_size = 32\n",
        "    emb_dim = 50\n",
        "\n",
        "init_lr = 0.0005"
      ],
      "execution_count": 6,
      "outputs": [
        {
          "output_type": "stream",
          "text": [
            "test:  False\n"
          ],
          "name": "stdout"
        }
      ]
    },
    {
      "cell_type": "code",
      "metadata": {
        "id": "BrmemKtyCtk2",
        "colab_type": "code",
        "outputId": "b2d5a54b-35d4-481d-f003-e6bf01c9571b",
        "colab": {
          "base_uri": "https://localhost:8080/",
          "height": 269
        }
      },
      "source": [
        "id2line = {}\n",
        "for line in lines:\n",
        "    _line = line.split(' +++$+++ ')\n",
        "    if len(_line) == 5:\n",
        "        id2line[_line[0]] = _line[4]\n",
        "        \n",
        "# Create a list of all of the conversations' lines' ids.\n",
        "convs = [ ]\n",
        "for line in conv_lines[:-1]:\n",
        "    _line = line.split(' +++$+++ ')[-1][1:-1].replace(\"'\",\"\").replace(\" \",\"\")\n",
        "    convs.append(_line.split(','))\n",
        "\n",
        "# Sort the sentences into questions (inputs) and answers (targets)\n",
        "pairs = []\n",
        "for conv in convs:\n",
        "    for i in range(len(conv)-1):\n",
        "        pairs.append([id2line[conv[i]],id2line[conv[i+1]]])\n",
        "        \n",
        "# Check if we have loaded the data correctly\n",
        "limit = 0\n",
        "for i in range(limit, limit+5):\n",
        "    print(pairs[i][0])\n",
        "    print(pairs[i][1])\n",
        "    print()\n",
        "    "
      ],
      "execution_count": 7,
      "outputs": [
        {
          "output_type": "stream",
          "text": [
            "Can we make this quick?  Roxanne Korrine and Andrew Barrett are having an incredibly horrendous public break- up on the quad.  Again.\n",
            "Well, I thought we'd start with pronunciation, if that's okay with you.\n",
            "\n",
            "Well, I thought we'd start with pronunciation, if that's okay with you.\n",
            "Not the hacking and gagging and spitting part.  Please.\n",
            "\n",
            "Not the hacking and gagging and spitting part.  Please.\n",
            "Okay... then how 'bout we try out some French cuisine.  Saturday?  Night?\n",
            "\n",
            "You're asking me out.  That's so cute. What's your name again?\n",
            "Forget it.\n",
            "\n",
            "No, no, it's my fault -- we didn't have a proper introduction ---\n",
            "Cameron.\n",
            "\n"
          ],
          "name": "stdout"
        }
      ]
    },
    {
      "cell_type": "code",
      "metadata": {
        "id": "NiMyaYb1CtnL",
        "colab_type": "code",
        "outputId": "b10a748f-f0bb-41ec-bcba-7b5c75864620",
        "colab": {
          "base_uri": "https://localhost:8080/",
          "height": 168
        }
      },
      "source": [
        "def replace_phrase(pairs):\n",
        "    p = pairs.copy()\n",
        "\n",
        "    for i in p:\n",
        "        for j in range(0,2):\n",
        "            i[j] = i[j].lower()\n",
        "            i[j] = re.sub(r\"there's\", \"there is\", i[j])\n",
        "            i[j] = re.sub(r\"i'm\", \"i am\", i[j])\n",
        "            i[j] = re.sub(r\"he's\", \"he is\", i[j])\n",
        "            i[j] = re.sub(r\"she's\", \"she is\", i[j])\n",
        "            i[j] = re.sub(r\"it's\", \"it is\", i[j])\n",
        "            i[j] = re.sub(r\"that's\", \"that is\", i[j])\n",
        "            i[j] = re.sub(r\"what's\", \"that is\", i[j])\n",
        "            i[j] = re.sub(r\"where's\", \"where is\", i[j])\n",
        "            i[j] = re.sub(r\"how's\", \"how is\", i[j])\n",
        "            i[j] = re.sub(r\"\\'ll\", \" will\", i[j])\n",
        "            i[j] = re.sub(r\"\\'ve\", \" have\", i[j])\n",
        "            i[j] = re.sub(r\"\\'re\", \" are\", i[j])\n",
        "            i[j] = re.sub(r\"\\'d\", \" would\", i[j])\n",
        "            i[j] = re.sub(r\"\\'re\", \" are\", i[j])\n",
        "            i[j] = re.sub(r\"won't\", \"will not\", i[j])\n",
        "            i[j] = re.sub(r\"can't\", \"cannot\", i[j])\n",
        "            i[j] = re.sub(r\"n't\", \" not\", i[j])\n",
        "            i[j] = re.sub(r\"n'\", \"ng\", i[j])\n",
        "            i[j] = re.sub(r\"'bout\", \"about\", i[j])\n",
        "            i[j] = re.sub(r\"'til\", \"until\", i[j])\n",
        "            i[j] = re.sub(r\"[-()\\\"#/@;:<>{}`+=~|.!?,]\", \"\", i[j])\n",
        "            i[j] = i[j].strip()\n",
        "    return p\n",
        "replaced_pairs = replace_phrase(pairs)\n",
        "replaced_pairs[:5]"
      ],
      "execution_count": 8,
      "outputs": [
        {
          "output_type": "execute_result",
          "data": {
            "text/plain": [
              "[['can we make this quick  roxanne korrine and andrew barrett are having an incredibly horrendous public break up on the quad  again',\n",
              "  'well i thought we would start with pronunciation if that is okay with you'],\n",
              " ['well i thought we would start with pronunciation if that is okay with you',\n",
              "  'not the hacking and gagging and spitting part  please'],\n",
              " ['not the hacking and gagging and spitting part  please',\n",
              "  'okay then how about we try out some french cuisine  saturday  night'],\n",
              " ['you are asking me out  that is so cute that is your name again',\n",
              "  'forget it'],\n",
              " ['no no it is my fault  we did not have a proper introduction', 'cameron']]"
            ]
          },
          "metadata": {
            "tags": []
          },
          "execution_count": 8
        }
      ]
    },
    {
      "cell_type": "code",
      "metadata": {
        "id": "gmy6GAxaCtqA",
        "colab_type": "code",
        "outputId": "c1587f52-65fa-49e7-aac1-66d33c250a0a",
        "colab": {
          "base_uri": "https://localhost:8080/",
          "height": 168
        }
      },
      "source": [
        "def clean_data(pairs):\n",
        "    p = pairs.copy()\n",
        "    # prepare translation table for removing punctuation\n",
        "    table = str.maketrans('', '', string.punctuation)\n",
        "    for i in p:\n",
        "        # tokenize\n",
        "        i[0], i[1] = i[0].split(), i[1].split()\n",
        "        # convert to lower case\n",
        "        i[0], i[1] = [word.lower() for word in i[0]], [word.lower() for word in i[1]]\n",
        "        # remove punctuation from each token\n",
        "        i[0], i[1] = [w.translate(table) for w in i[0]], [w.translate(table) for w in i[1]]\n",
        "        # remove tokens with numbers in them\n",
        "        i[0], i[1] = [word for word in i[0] if word.isalpha()], [word for word in i[1] if word.isalpha()]\n",
        "        # store as string\n",
        "        i[0], i[1] =  ' '.join(i[0]), ' '.join(i[1])\n",
        "            \n",
        "    return p\n",
        "\n",
        "clean_pairs = clean_data(replaced_pairs)\n",
        "clean_pairs[:5]"
      ],
      "execution_count": 9,
      "outputs": [
        {
          "output_type": "execute_result",
          "data": {
            "text/plain": [
              "[['can we make this quick roxanne korrine and andrew barrett are having an incredibly horrendous public break up on the quad again',\n",
              "  'well i thought we would start with pronunciation if that is okay with you'],\n",
              " ['well i thought we would start with pronunciation if that is okay with you',\n",
              "  'not the hacking and gagging and spitting part please'],\n",
              " ['not the hacking and gagging and spitting part please',\n",
              "  'okay then how about we try out some french cuisine saturday night'],\n",
              " ['you are asking me out that is so cute that is your name again',\n",
              "  'forget it'],\n",
              " ['no no it is my fault we did not have a proper introduction', 'cameron']]"
            ]
          },
          "metadata": {
            "tags": []
          },
          "execution_count": 9
        }
      ]
    },
    {
      "cell_type": "code",
      "metadata": {
        "id": "iErcmtyfCttY",
        "colab_type": "code",
        "outputId": "a1506d90-7a4a-49a3-cb18-886f36b008bf",
        "colab": {
          "base_uri": "https://localhost:8080/",
          "height": 205
        }
      },
      "source": [
        "start_token = '<startseq>'\n",
        "end_token = '<endseq>'\n",
        "\n",
        "def add_end_start_tokens(pairs):\n",
        "    p = pairs.copy()\n",
        "    for i in p:\n",
        "        i[0] = start_token + ' '  + i[0] + ' ' + end_token\n",
        "        i[1] = start_token + ' '  + i[1] + ' ' + end_token\n",
        "    return p\n",
        "\n",
        "tokenized_pairs = add_end_start_tokens(clean_pairs)\n",
        "tokenized_pairs[:5]"
      ],
      "execution_count": 10,
      "outputs": [
        {
          "output_type": "execute_result",
          "data": {
            "text/plain": [
              "[['<startseq> can we make this quick roxanne korrine and andrew barrett are having an incredibly horrendous public break up on the quad again <endseq>',\n",
              "  '<startseq> well i thought we would start with pronunciation if that is okay with you <endseq>'],\n",
              " ['<startseq> well i thought we would start with pronunciation if that is okay with you <endseq>',\n",
              "  '<startseq> not the hacking and gagging and spitting part please <endseq>'],\n",
              " ['<startseq> not the hacking and gagging and spitting part please <endseq>',\n",
              "  '<startseq> okay then how about we try out some french cuisine saturday night <endseq>'],\n",
              " ['<startseq> you are asking me out that is so cute that is your name again <endseq>',\n",
              "  '<startseq> forget it <endseq>'],\n",
              " ['<startseq> no no it is my fault we did not have a proper introduction <endseq>',\n",
              "  '<startseq> cameron <endseq>']]"
            ]
          },
          "metadata": {
            "tags": []
          },
          "execution_count": 10
        }
      ]
    },
    {
      "cell_type": "code",
      "metadata": {
        "id": "s35ogwIaDftj",
        "colab_type": "code",
        "outputId": "e6ac05b0-5abf-41b9-d95e-84330857c728",
        "colab": {
          "base_uri": "https://localhost:8080/",
          "height": 151
        }
      },
      "source": [
        "# finding the maximum length of questions and answers\n",
        "# because there are senteces with unusually long lengths, we caculate the max length that 80% of data can be placed in\n",
        "def max_length(pairs,prct):\n",
        "    # Create a list of all the captions\n",
        "    questions = []\n",
        "    answers = []\n",
        "    for i in pairs:\n",
        "        questions.append(i[0])\n",
        "        answers.append(i[1])\n",
        "        \n",
        "    length_questions = list(len(d.split()) for d in questions)\n",
        "    length_answers = list(len(d.split()) for d in answers)\n",
        "\n",
        "    print('percentile {} of len of questions: {}'.format(prct,np.percentile(length_questions, prct)))\n",
        "    print('longest sentence: ', max(length_questions))\n",
        "    print()\n",
        "    print('percentile {} of len of answers: {}'.format(prct,np.percentile(length_answers, prct)))\n",
        "    print('longest sentence: ', max(length_answers))\n",
        "    print()\n",
        "    return int(np.percentile(length_questions, prct)),int(np.percentile(length_answers, prct))\n",
        "\n",
        "max_len_q,max_len_a = max_length(tokenized_pairs,80)\n",
        "\n",
        "print('max-len questions for training: ', max_len_q)\n",
        "print('max-len answers for training: ', max_len_a)"
      ],
      "execution_count": 11,
      "outputs": [
        {
          "output_type": "stream",
          "text": [
            "percentile 80 of len of questions: 18.0\n",
            "longest sentence:  321\n",
            "\n",
            "percentile 80 of len of answers: 18.0\n",
            "longest sentence:  557\n",
            "\n",
            "max-len questions for training:  18\n",
            "max-len answers for training:  18\n"
          ],
          "name": "stdout"
        }
      ]
    },
    {
      "cell_type": "code",
      "metadata": {
        "id": "j2wazE5KDfvb",
        "colab_type": "code",
        "outputId": "890849bb-e653-4bc0-be18-abe6d1fd0ddd",
        "colab": {
          "base_uri": "https://localhost:8080/",
          "height": 34
        }
      },
      "source": [
        "# Remove questions and answers that are shorter than 2 words and longer than maxlen.\n",
        "min_line_len = 2 # two words are for tokens\n",
        "\n",
        "def set_length(tokenized_pairs):\n",
        "    pairs_final = []\n",
        "    for p in tokenized_pairs:\n",
        "        if (\n",
        "            len(p[0].split())>=min_line_len and len(p[1].split())>=min_line_len \n",
        "           and len(p[0].split())<=max_len_q and len(p[1].split())<=max_len_a):\n",
        "                \n",
        "            pairs_final.append(p)\n",
        "            \n",
        "    return pairs_final\n",
        "\n",
        "pairs_final = set_length(tokenized_pairs)\n",
        "pairs_final=pairs_final[:60001]\n",
        "len(pairs_final)"
      ],
      "execution_count": 12,
      "outputs": [
        {
          "output_type": "execute_result",
          "data": {
            "text/plain": [
              "60001"
            ]
          },
          "metadata": {
            "tags": []
          },
          "execution_count": 12
        }
      ]
    },
    {
      "cell_type": "code",
      "metadata": {
        "id": "1GgJB4_QDfxs",
        "colab_type": "code",
        "outputId": "f32d76e8-2ed4-456b-f9ff-d4e89a710cbb",
        "colab": {
          "base_uri": "https://localhost:8080/",
          "height": 50
        }
      },
      "source": [
        "# making a vocabulary of the words that occur more than word_count_threshold time\n",
        "def create_reoccurring_vocab(pairs, word_count_threshold = 5):\n",
        "    p = pairs\n",
        "    # Create a list of all the captions\n",
        "    all_captions = []\n",
        "    for i in p:\n",
        "        for j in i:\n",
        "            all_captions.append(j)\n",
        "\n",
        "    # Consider only words which occur at least 10 times in the corpus\n",
        "    word_counts = {}\n",
        "    nsents = 0\n",
        "    for sent in all_captions:\n",
        "        nsents += 1\n",
        "        for w in sent.split(' '):\n",
        "            word_counts[w] = word_counts.get(w, 0) + 1\n",
        "\n",
        "    vocab = [w for w in word_counts if word_counts[w] >= word_count_threshold]\n",
        "    vocab = list(set(vocab))\n",
        "    print('Short vocab size: %d ' % len(vocab))\n",
        "    return vocab\n",
        "\n",
        "# each word in the vocabulary must be used in the data atleast 20 times\n",
        "short_vocab = create_reoccurring_vocab(pairs_final, word_count_threshold = 4)\n",
        "# removing one character words from vocab except for 'a'\n",
        "for v in short_vocab:\n",
        "    if len(v) == 1 and v!='a' and v!='i':\n",
        "        short_vocab.remove(v) \n",
        "\n",
        "short_vocab = sorted(short_vocab)[1:]\n",
        "short_vocab[:5]"
      ],
      "execution_count": 14,
      "outputs": [
        {
          "output_type": "stream",
          "text": [
            "Short vocab size: 8307 \n"
          ],
          "name": "stdout"
        },
        {
          "output_type": "execute_result",
          "data": {
            "text/plain": [
              "['<endseq>', '<startseq>', 'a', 'aaah', 'aah']"
            ]
          },
          "metadata": {
            "tags": []
          },
          "execution_count": 14
        }
      ]
    },
    {
      "cell_type": "code",
      "metadata": {
        "id": "KH2ezidNDfzj",
        "colab_type": "code",
        "outputId": "c571a3d1-6085-4324-adfe-24529dda050f",
        "colab": {
          "base_uri": "https://localhost:8080/",
          "height": 34
        }
      },
      "source": [
        "vocab_len = len(short_vocab) + 1 # since index 0 is used as padding, we have to increase the vocab size\n",
        "vocab_len"
      ],
      "execution_count": 15,
      "outputs": [
        {
          "output_type": "execute_result",
          "data": {
            "text/plain": [
              "8286"
            ]
          },
          "metadata": {
            "tags": []
          },
          "execution_count": 15
        }
      ]
    },
    {
      "cell_type": "code",
      "metadata": {
        "id": "tTzSkpVGEE_Z",
        "colab_type": "code",
        "colab": {}
      },
      "source": [
        "def progressBar(value, endvalue, bar_length=20, job='Job'):\n",
        "\n",
        "    percent = float(value) / endvalue\n",
        "    arrow = '-' * int(round(percent * bar_length)-1) + '>'\n",
        "    spaces = ' ' * (bar_length - len(arrow))\n",
        "\n",
        "    sys.stdout.write(\"\\r{0} Completion: [{1}] {2}%\".format(job,arrow + spaces, int(round(percent * 100))))\n",
        "    sys.stdout.flush()\n",
        "    \n",
        "def print_tensor(t):\n",
        "    print(K.get_value(t))\n",
        "    \n",
        "def to_tensor(t):\n",
        "    return tf.convert_to_tensor(t)"
      ],
      "execution_count": 0,
      "outputs": []
    },
    {
      "cell_type": "code",
      "metadata": {
        "id": "khYGDOuODf1f",
        "colab_type": "code",
        "outputId": "7e0099d8-11d7-496b-c8a9-36904528477f",
        "colab": {
          "base_uri": "https://localhost:8080/",
          "height": 67
        }
      },
      "source": [
        "def trimRareWords(voc, pairs):\n",
        "    # Filter out pairs with trimmed words\n",
        "    keep_pairs = []\n",
        "    i=0\n",
        "    for pair in pairs:\n",
        "        i+=1\n",
        "        progressBar(value=i,endvalue=len(pairs))\n",
        "        input_sentence = pair[0]\n",
        "        output_sentence = pair[1]\n",
        "        keep_input = True\n",
        "        keep_output = True\n",
        "        # Check input sentence\n",
        "        for word in input_sentence.split(' '):\n",
        "            if word not in voc:\n",
        "                keep_input = False\n",
        "                break\n",
        "        # Check output sentence\n",
        "        for word in output_sentence.split(' '):\n",
        "            if word not in voc:\n",
        "                keep_output = False\n",
        "                break\n",
        "\n",
        "        # Only keep pairs that do not contain trimmed word(s) in their input or output sentence\n",
        "        if keep_input and keep_output:\n",
        "            keep_pairs.append(pair)\n",
        "\n",
        "    print(\"\\nTrimmed from {} pairs to {}\".format(len(pairs), len(keep_pairs)))\n",
        "    return keep_pairs\n",
        "\n",
        "\n",
        "# # Trim voc and pairs\n",
        "pairs_final = trimRareWords(short_vocab, pairs_final)\n",
        "with open ('final_pairs_v21.pkl','wb') as f:\n",
        "    pairs_final = pickle.dump(pairs_final,f)\n",
        "    \n",
        "with open ('final_pairs_v21.pkl','rb') as f:\n",
        "    pairs_final = pickle.load(f)\n",
        "    \n",
        "pairs_final_train = pairs_final\n",
        "len(pairs_final_train)"
      ],
      "execution_count": 17,
      "outputs": [
        {
          "output_type": "stream",
          "text": [
            "Job Completion: [------------------->] 100%\n",
            "Trimmed from 60001 pairs to 43256\n"
          ],
          "name": "stdout"
        },
        {
          "output_type": "execute_result",
          "data": {
            "text/plain": [
              "43256"
            ]
          },
          "metadata": {
            "tags": []
          },
          "execution_count": 17
        }
      ]
    },
    {
      "cell_type": "code",
      "metadata": {
        "id": "sH5cF_AlDf3q",
        "colab_type": "code",
        "colab": {}
      },
      "source": [
        "#Create an instance of the tokenizer object:\n",
        "tokenizer = Tokenizer(filters = [])\n",
        "tokenizer.fit_on_texts(short_vocab)\n",
        "\n",
        "ixtoword = {} # index to word dic\n",
        "wordtoix = tokenizer.word_index # word to index dic\n",
        "pad_token = 'pad0'\n",
        "ixtoword[0] = pad_token # no word in vocab has index 0. but padding is indicated with 0\n",
        "\n",
        "for w in tokenizer.word_index:\n",
        "    ixtoword[tokenizer.word_index[w]] = w"
      ],
      "execution_count": 0,
      "outputs": []
    },
    {
      "cell_type": "code",
      "metadata": {
        "id": "lyuLq2GiLXo0",
        "colab_type": "code",
        "outputId": "05ce9c1a-a32e-4877-a43e-701507b46e82",
        "colab": {
          "base_uri": "https://localhost:8080/",
          "height": 353
        }
      },
      "source": [
        "!wget http://nlp.stanford.edu/data/glove.6B.zip"
      ],
      "execution_count": 19,
      "outputs": [
        {
          "output_type": "stream",
          "text": [
            "--2020-05-22 07:59:22--  http://nlp.stanford.edu/data/glove.6B.zip\n",
            "Resolving nlp.stanford.edu (nlp.stanford.edu)... 171.64.67.140\n",
            "Connecting to nlp.stanford.edu (nlp.stanford.edu)|171.64.67.140|:80... connected.\n",
            "HTTP request sent, awaiting response... 302 Found\n",
            "Location: https://nlp.stanford.edu/data/glove.6B.zip [following]\n",
            "--2020-05-22 07:59:22--  https://nlp.stanford.edu/data/glove.6B.zip\n",
            "Connecting to nlp.stanford.edu (nlp.stanford.edu)|171.64.67.140|:443... connected.\n",
            "HTTP request sent, awaiting response... 301 Moved Permanently\n",
            "Location: http://downloads.cs.stanford.edu/nlp/data/glove.6B.zip [following]\n",
            "--2020-05-22 07:59:22--  http://downloads.cs.stanford.edu/nlp/data/glove.6B.zip\n",
            "Resolving downloads.cs.stanford.edu (downloads.cs.stanford.edu)... 171.64.64.22\n",
            "Connecting to downloads.cs.stanford.edu (downloads.cs.stanford.edu)|171.64.64.22|:80... connected.\n",
            "HTTP request sent, awaiting response... 200 OK\n",
            "Length: 862182613 (822M) [application/zip]\n",
            "Saving to: ‘glove.6B.zip’\n",
            "\n",
            "glove.6B.zip        100%[===================>] 822.24M  2.17MB/s    in 6m 30s  \n",
            "\n",
            "2020-05-22 08:05:53 (2.11 MB/s) - ‘glove.6B.zip’ saved [862182613/862182613]\n",
            "\n"
          ],
          "name": "stdout"
        }
      ]
    },
    {
      "cell_type": "code",
      "metadata": {
        "id": "-YtW5meAM7Ep",
        "colab_type": "code",
        "outputId": "142e986c-99cd-4945-db43-c65ca68876c9",
        "colab": {
          "base_uri": "https://localhost:8080/",
          "height": 101
        }
      },
      "source": [
        "!unzip glove*.zip"
      ],
      "execution_count": 20,
      "outputs": [
        {
          "output_type": "stream",
          "text": [
            "Archive:  glove.6B.zip\n",
            "  inflating: glove.6B.50d.txt        \n",
            "  inflating: glove.6B.100d.txt       \n",
            "  inflating: glove.6B.200d.txt       \n",
            "  inflating: glove.6B.300d.txt       \n"
          ],
          "name": "stdout"
        }
      ]
    },
    {
      "cell_type": "code",
      "metadata": {
        "id": "LWMUh5lQNHjK",
        "colab_type": "code",
        "colab": {}
      },
      "source": [
        ""
      ],
      "execution_count": 0,
      "outputs": []
    },
    {
      "cell_type": "code",
      "metadata": {
        "id": "XcuIRil-Df69",
        "colab_type": "code",
        "outputId": "b92f708d-3c49-4dd9-8d67-d9d507c86c36",
        "colab": {
          "base_uri": "https://localhost:8080/",
          "height": 50
        }
      },
      "source": [
        "# Making the embedding mtrix\n",
        "def make_embedding_layer(embedding_dim=100, glove=True):\n",
        "    if glove == False:\n",
        "        print('Just a zero matrix loaded')\n",
        "        embedding_matrix = np.zeros((vocab_len, embedding_dim)) # just a zero matrix \n",
        "    else:\n",
        "        print('Loading glove...')\n",
        "        glove_dir = 'glove'\n",
        "        embeddings_index = {} \n",
        "        f = open('glove.6B.'+str(embedding_dim)+'d.txt', encoding=\"utf-8\")\n",
        "        for line in f:\n",
        "            values = line.split()\n",
        "            word = values[0]\n",
        "            coefs = np.asarray(values[1:], dtype='float32')\n",
        "            embeddings_index[word] = coefs\n",
        "        f.close()\n",
        "        print(\"GloVe \",embedding_dim, ' loded!')\n",
        "        # Get 200-dim dense vector for each of the vocab_rocc\n",
        "        embedding_matrix = np.zeros((vocab_len, embedding_dim)) # to import as weights for Keras Embedding layer\n",
        "        for word, i in wordtoix.items():\n",
        "            embedding_vector = embeddings_index.get(word)\n",
        "            if embedding_vector is not None:\n",
        "                # Words not found in the embedding index will be all zeros\n",
        "                embedding_matrix[i] = embedding_vector\n",
        "            \n",
        "    embedding_layer = Embedding(vocab_len, embedding_dim, mask_zero=True, trainable=False) # we have a limited vocab so we \n",
        "                                                                                           # do not train the embedding layer\n",
        "                                                                                           # we use 0 as padding so => mask_zero=True\n",
        "    embedding_layer.build((None,))\n",
        "    embedding_layer.set_weights([embedding_matrix])\n",
        "    \n",
        "    return embedding_layer\n",
        "\n",
        "embeddings = make_embedding_layer(embedding_dim=emb_dim, glove=not test)"
      ],
      "execution_count": 21,
      "outputs": [
        {
          "output_type": "stream",
          "text": [
            "Loading glove...\n",
            "GloVe  50  loded!\n"
          ],
          "name": "stdout"
        }
      ]
    },
    {
      "cell_type": "code",
      "metadata": {
        "id": "RhQHO2CBNtpk",
        "colab_type": "code",
        "colab": {}
      },
      "source": [
        "class Encoder(tf.keras.Model):\n",
        "    def __init__(self, vocab_size, embedding_dim, enc_units):\n",
        "        super(Encoder, self).__init__()\n",
        "        self.batch_sz = batch_size\n",
        "        self.enc_units = enc_units\n",
        "        self.embeddings = embeddings\n",
        "        \n",
        "        self.Bidirectional1 = Bidirectional(GRU(enc_units, return_sequences=True,\n",
        "                               return_state=False, recurrent_initializer='glorot_uniform', name='gru_1'), name='bidirectional_encoder1')\n",
        "        self.Bidirectional2 = Bidirectional(GRU(enc_units, return_sequences=True, \n",
        "                               return_state=True, recurrent_initializer='glorot_uniform', name='gru_2'), name='bidirectional_encoder2')\n",
        "                                                                                                \n",
        "        self.dropout = Dropout(0.2)\n",
        "        self.Inp = Input(shape=(max_len_q,)) # size of questions\n",
        "            \n",
        "    def bidirectional(self, bidir, layer, inp, hidden):\n",
        "        return bidir(layer(inp, initial_state = hidden))\n",
        "    \n",
        "    def call(self, x, hidden):\n",
        "        x = self.embeddings(x)\n",
        "#         x = self.dropout(x)\n",
        "#         x = self.Bidirectional1(x)\n",
        "        x = self.dropout(x)\n",
        "        output, state_f,state_b = self.Bidirectional2(x)\n",
        "\n",
        "        return output, state_f, state_b\n",
        "\n",
        "    def initialize_hidden_state(self):\n",
        "        return tf.zeros((self.batch_sz, self.enc_units))"
      ],
      "execution_count": 0,
      "outputs": []
    },
    {
      "cell_type": "code",
      "metadata": {
        "id": "e3XXcUFONtvu",
        "colab_type": "code",
        "colab": {}
      },
      "source": [
        "encoder = Encoder(vocab_len, emb_dim, GRU_units)\n"
      ],
      "execution_count": 0,
      "outputs": []
    },
    {
      "cell_type": "code",
      "metadata": {
        "id": "Qr0l0rhHNty-",
        "colab_type": "code",
        "colab": {}
      },
      "source": [
        "class BahdanauAttention(tf.keras.layers.Layer):\n",
        "    def __init__(self, units):\n",
        "        super(BahdanauAttention, self).__init__()\n",
        "        self.W1 = tf.keras.layers.Dense(units)\n",
        "        self.W2 = tf.keras.layers.Dense(units)\n",
        "        self.V = tf.keras.layers.Dense(1)\n",
        "        self.units = units\n",
        "        \n",
        "    def call(self, query, values):\n",
        "        \n",
        "        # query hidden state shape == (batch_size, hidden size)\n",
        "        # query_with_time_axis shape == (batch_size, 1, hidden size)\n",
        "        # values shape == (batch_size, max_len, hidden size)\n",
        "        # we are doing this to broadcast addition along the time axis to calculate the score\n",
        "        query_with_time_axis = tf.expand_dims(query, 1)\n",
        "\n",
        "        # score shape == (batch_size, max_length, 1)\n",
        "        # we get 1 at the last axis because we are applying score to self.V\n",
        "        # the shape of the tensor before applying self.V is (batch_size, max_length, units)\n",
        "        score = self.V(tf.nn.tanh(\n",
        "            self.W1(query_with_time_axis) + self.W2(values)))\n",
        "\n",
        "        # attention_weights shape == (batch_size, max_length, 1)\n",
        "        attention_weights = tf.nn.softmax(score, axis=1)\n",
        "\n",
        "        # context_vector shape after sum == (batch_size, hidden_size)\n",
        "        context_vector = attention_weights * values\n",
        "        context_vector = tf.reduce_sum(context_vector, axis=1)\n",
        "\n",
        "        return context_vector, attention_weights"
      ],
      "execution_count": 0,
      "outputs": []
    },
    {
      "cell_type": "code",
      "metadata": {
        "id": "8fkaITrRNt1-",
        "colab_type": "code",
        "colab": {}
      },
      "source": [
        "class Decoder(tf.keras.Model):\n",
        "    def __init__(self, vocab_size, embedding_dim, dec_units):\n",
        "        super(Decoder, self).__init__()\n",
        "        self.batch_sz = batch_size\n",
        "        self.embeddings = embeddings\n",
        "        self.units = 2 * dec_units # because we use bidirectional encoder\n",
        "        self.fc = Dense(vocab_len, activation='softmax', name='dense_layer')\n",
        "        # used for attention\n",
        "        self.attention = BahdanauAttention(self.units)\n",
        "        self.decoder_gru_l1 = GRU(self.units, return_sequences=True, \n",
        "                                  return_state= False, recurrent_initializer='glorot_uniform' ,name='decoder_gru1')\n",
        "        self.decoder_gru_l2 = GRU(self.units, return_sequences=False, \n",
        "                                  return_state= True, recurrent_initializer='glorot_uniform' ,name='decoder_gru2') \n",
        "        self.dropout = Dropout(0.4)\n",
        "        \n",
        "    def call(self, x, hidden, enc_output):\n",
        "\n",
        "        # enc_output shape == (batch_size, max_length, hidden_size)\n",
        "        context_vector, attention_weights = self.attention(hidden, enc_output)\n",
        "\n",
        "        # x shape after passing through embedding == (batch_size, 1, embedding_dim)\n",
        "        x = self.embeddings(x)\n",
        "\n",
        "        # x shape after concatenation == (batch_size, 1, embedding_dim + hidden_size)\n",
        "        x = tf.concat([tf.expand_dims(context_vector, 1), x], axis=-1) # concat input and context vector together\n",
        "\n",
        "        # passing the concatenated vector to the GRU\n",
        "        x = self.decoder_gru_l1(x)\n",
        "        x = self.dropout(x)\n",
        "        output, state = self.decoder_gru_l2(x)\n",
        "        x = self.fc(output)\n",
        "        return x, state, attention_weights"
      ],
      "execution_count": 0,
      "outputs": []
    },
    {
      "cell_type": "code",
      "metadata": {
        "id": "aV4-WfZENt5R",
        "colab_type": "code",
        "colab": {}
      },
      "source": [
        "decoder = Decoder(vocab_len, emb_dim, GRU_units)\n"
      ],
      "execution_count": 0,
      "outputs": []
    },
    {
      "cell_type": "code",
      "metadata": {
        "id": "s_44u0SiOLMF",
        "colab_type": "code",
        "colab": {}
      },
      "source": [
        "import unicodedata\n",
        "import matplotlib.ticker as ticker\n",
        "\n",
        "def unicode_to_ascii(s):\n",
        "    return ''.join(c for c in unicodedata.normalize('NFD', s)\n",
        "      if unicodedata.category(c) != 'Mn')"
      ],
      "execution_count": 0,
      "outputs": []
    },
    {
      "cell_type": "code",
      "metadata": {
        "id": "78cHd0FbOLO4",
        "colab_type": "code",
        "colab": {}
      },
      "source": [
        "def evaluate(sentence):\n",
        "    \n",
        "    attention_plot = np.zeros((max_len_a, max_len_q))\n",
        "\n",
        "    sentence = unicode_to_ascii(sentence.lower())\n",
        "    inputs = [wordtoix[i] for i in sentence.split(' ')]\n",
        "    inputs = [wordtoix[start_token]]+inputs+[wordtoix[end_token]]\n",
        "    inputs = pad_sequences([inputs],maxlen=max_len_q, padding='post')\n",
        "\n",
        "    inputs = tf.convert_to_tensor(inputs)\n",
        "\n",
        "    result = ''\n",
        "\n",
        "    hidden = [tf.zeros((1, GRU_units))]\n",
        "    enc_out, enc_hidden_f, enc_hidden_b = encoder(inputs, hidden)\n",
        "\n",
        "    dec_hidden = Concatenate(axis=-1)([enc_hidden_f, enc_hidden_b])\n",
        "    dec_input = tf.expand_dims([wordtoix[start_token]], 1)\n",
        "\n",
        "    for t in range(max_len_a):\n",
        "        predictions, dec_hidden, attention_weights = decoder(dec_input,\n",
        "                                                             dec_hidden,\n",
        "                                                             enc_out)\n",
        "\n",
        "        attention_weights = tf.reshape(attention_weights, (-1, ))\n",
        "        attention_plot[t] = K.get_value(attention_weights)\n",
        "        \n",
        "        predicted_id =  K.get_value(tf.argmax(predictions[0]))       \n",
        "\n",
        "        if ixtoword[predicted_id] == end_token:\n",
        "            return result, sentence, attention_plot\n",
        "        \n",
        "        result += ixtoword[predicted_id] + ' '\n",
        "        # the predicted ID is fed back into the model\n",
        "        dec_input = tf.expand_dims([predicted_id], 1)\n",
        "\n",
        "    return result, sentence, attention_plot"
      ],
      "execution_count": 0,
      "outputs": []
    },
    {
      "cell_type": "code",
      "metadata": {
        "id": "T78yetKzOLRd",
        "colab_type": "code",
        "colab": {}
      },
      "source": [
        "def plot_attention(attention, sentence, predicted_sentence):\n",
        "    fig = plt.figure(figsize=(5,5))\n",
        "    ax = fig.add_subplot(1, 1, 1)\n",
        "    ax.matshow(attention, cmap='viridis')\n",
        "\n",
        "    fontdict = {'fontsize': 14}\n",
        "\n",
        "    ax.set_xticklabels([''] + sentence, fontdict=fontdict, rotation=90)\n",
        "    ax.set_yticklabels([''] + predicted_sentence, fontdict=fontdict)\n",
        "\n",
        "    ax.xaxis.set_major_locator(ticker.MultipleLocator(1))\n",
        "    ax.yaxis.set_major_locator(ticker.MultipleLocator(1))\n",
        "    \n",
        "    plt.show()"
      ],
      "execution_count": 0,
      "outputs": []
    },
    {
      "cell_type": "code",
      "metadata": {
        "id": "VOVSoeWcOLT3",
        "colab_type": "code",
        "colab": {}
      },
      "source": [
        "def answer(sentence, training=False):\n",
        "    result, sentence, attention_plot = evaluate(sentence)\n",
        "    \n",
        "    if training:\n",
        "        return result\n",
        "    \n",
        "    print('Input: %s' % (sentence))\n",
        "    print('Predicted answer: {}'.format(result))\n",
        "    attention_plot = attention_plot[1:len(result.split(' ')), :len(sentence.split(' '))]\n",
        "    plot_attention(attention_plot, sentence.split(' '), result.split(' ')[:-1])"
      ],
      "execution_count": 0,
      "outputs": []
    },
    {
      "cell_type": "code",
      "metadata": {
        "id": "59YdZPpdOLWv",
        "colab_type": "code",
        "colab": {}
      },
      "source": [
        "def beam_search(sentence, k=3, maxsample=max_len_a, use_unk=False, oov=None, eos=end_token):\n",
        "    \"\"\"return k samples (beams) and their NLL scores, each sample is a sequence of labels,\n",
        "    all samples starts with an `empty` label and end with `eos` or truncated to length of `maxsample`.\n",
        "    You need to supply `predict` which returns the label probability of each sample.\n",
        "    `use_unk` allow usage of `oov` (out-of-vocabulary) label in samples\n",
        "    \"\"\"\n",
        "    \n",
        "    dead_k = 0 # samples that reached eos\n",
        "    dead_samples = []\n",
        "    dead_scores = []\n",
        "    live_k = 1 # samples that did not yet reached eos\n",
        "    live_samples = [[wordtoix[start_token]]]\n",
        "    live_scores = [0]\n",
        "\n",
        "    sentence = unicode_to_ascii(sentence.lower())\n",
        "    inputs = [wordtoix[i] for i in sentence.split(' ')]\n",
        "    inputs = [wordtoix[start_token]]+inputs+[wordtoix[end_token]]\n",
        "    inputs = pad_sequences([inputs],maxlen=max_len_q, padding='post')\n",
        "\n",
        "    inputs = tf.convert_to_tensor(inputs)\n",
        "\n",
        "    hidden = [tf.zeros((1, GRU_units))]\n",
        "    enc_out, enc_hidden_f, enc_hidden_b = encoder(inputs, hidden)\n",
        "\n",
        "    dec_hidden = Concatenate(axis=-1)([enc_hidden_f, enc_hidden_b])\n",
        "    dec_input = tf.expand_dims([wordtoix[start_token]], 0)\n",
        "        \n",
        "    while live_k and dead_k < k:\n",
        "        # for every possible live sample calc prob for every possible label \n",
        "        predictions, dec_hidden, _ = decoder(dec_input,dec_hidden,enc_out)\n",
        "        probs = K.get_value(predictions[0])\n",
        "        # total score for every sample is sum of -log of word prb\n",
        "        cand_scores = np.array(live_scores)[:,None] - np.log(probs)\n",
        "        if not use_unk and oov is not None:\n",
        "            cand_scores[:,oov] = 1e20\n",
        "        cand_flat = cand_scores.flatten()\n",
        "\n",
        "        # find the best (lowest) scores we have from all possible samples and new words\n",
        "        ranks_flat = cand_flat.argsort()[:(k-dead_k)]\n",
        "        live_scores = cand_flat[ranks_flat]\n",
        "        # append the new words to their appropriate live sample\n",
        "        voc_size = vocab_len\n",
        "        live_samples = [live_samples[r//voc_size]+[r%voc_size] for r in ranks_flat]\n",
        "\n",
        "        # live samples that should be dead are...\n",
        "        zombie = [s[-1] == eos or len(s) >= maxsample for s in live_samples]\n",
        "        \n",
        "        # add zombies to the dead\n",
        "        dead_samples += [s for s,z in zip(live_samples,zombie) if z]  # remove first label == empty\n",
        "        dead_scores += [s for s,z in zip(live_scores,zombie) if z]\n",
        "        dead_k = len(dead_samples)\n",
        "        # remove zombies from the living \n",
        "        live_samples = [s for s,z in zip(live_samples,zombie) if not z]\n",
        "        live_scores = [s for s,z in zip(live_scores,zombie) if not z]\n",
        "        live_k = len(live_samples)\n",
        "\n",
        "    final_samples = dead_samples + live_samples\n",
        "    final_scores = dead_scores + live_scores   \n",
        "    \n",
        "    # cutting the strong where end_token is encounterd\n",
        "    for i in range(len(final_scores)):\n",
        "        final_scores[i] /= len(final_samples[i]) # normalizing the scores\n",
        "    \n",
        "    final_result =[]\n",
        "    \n",
        "    for i in range(len(final_scores)):\n",
        "        final_result.append((final_scores[i],final_samples[i]))\n",
        "    \n",
        "    final_list_ix = max(final_result)[1]\n",
        "    final_list_word = [ixtoword[f] for f in final_list_ix]\n",
        "    final_sentence = ' '.join(final_list_word[1:])\n",
        "    end_ix = final_sentence.find(end_token)\n",
        "    return final_sentence[:end_ix]"
      ],
      "execution_count": 0,
      "outputs": []
    },
    {
      "cell_type": "code",
      "metadata": {
        "id": "j8SKMRnEOLZO",
        "colab_type": "code",
        "colab": {}
      },
      "source": [
        "optimizer = tf.keras.optimizers.Adam(init_lr)\n",
        "\n",
        "def loss_function(real, pred):\n",
        "\n",
        "    mask = tf.math.logical_not(tf.math.equal(real, 0))\n",
        "    loss_ = K.sparse_categorical_crossentropy(real, pred, from_logits= False)\n",
        "\n",
        "    mask = tf.cast(mask, dtype=loss_.dtype)\n",
        "    loss_ *= mask\n",
        "\n",
        "    return tf.reduce_mean(loss_)"
      ],
      "execution_count": 0,
      "outputs": []
    },
    {
      "cell_type": "code",
      "metadata": {
        "id": "S0Eov5Y3OLc7",
        "colab_type": "code",
        "colab": {}
      },
      "source": [
        "checkpoint_prefix = os.path.join(snapshot_folder, str(emb_dim)+\"-ckpt\")\n",
        "checkpoint = tf.train.Checkpoint(optimizer=optimizer,\n",
        "                                 encoder=encoder,\n",
        "                                 decoder=decoder)"
      ],
      "execution_count": 0,
      "outputs": []
    },
    {
      "cell_type": "code",
      "metadata": {
        "id": "s3m4LcJ9PMcU",
        "colab_type": "code",
        "colab": {}
      },
      "source": [
        "@tf.function\n",
        "def train_step(inp, targ, enc_hidden):\n",
        "    loss = 0\n",
        "    with tf.GradientTape() as tape:\n",
        "        enc_output, enc_hidden_f, enc_hidden_b = encoder(inp, enc_hidden)\n",
        "        \n",
        "        dec_hidden = Concatenate(axis=-1)([enc_hidden_f, enc_hidden_b])\n",
        "        dec_input = tf.expand_dims([wordtoix[start_token]] * batch_size, 1) # dec_input initially == start_token\n",
        "\n",
        "        # Teacher forcing - feeding the target as the next input\n",
        "        for t in range(1, targ.shape[1]):\n",
        "            \n",
        "            # passing enc_output to the decoder\n",
        "            predictions, dec_hidden, _ = decoder(dec_input, dec_hidden, enc_output)\n",
        "            loss += loss_function(targ[:, t], predictions) # each time just use one timestep output\n",
        "            # using teacher forcing\n",
        "            dec_input = tf.expand_dims(targ[:, t], 1) # expected output at this time becomes input for next timestep\n",
        "            \n",
        "    batch_loss = (loss / int(targ.shape[1]))\n",
        "    variables = encoder.trainable_variables + decoder.trainable_variables\n",
        "    gradients = tape.gradient(loss, variables)\n",
        "    optimizer.apply_gradients(zip(gradients, variables))\n",
        "    \n",
        "    return batch_loss"
      ],
      "execution_count": 0,
      "outputs": []
    },
    {
      "cell_type": "code",
      "metadata": {
        "id": "4pmafiW-PMeu",
        "colab_type": "code",
        "colab": {}
      },
      "source": [
        "history={'loss':[]}\n",
        "smallest_loss = np.inf\n",
        "best_ep = 1\n",
        "EPOCHS = 40\n",
        "enc_hidden = encoder.initialize_hidden_state()\n",
        "steps_per_epoch = len(pairs_final_train)//batch_size # used for caculating number of batches\n",
        "current_ep = 1"
      ],
      "execution_count": 0,
      "outputs": []
    },
    {
      "cell_type": "code",
      "metadata": {
        "id": "6dK2kDbrPMhc",
        "colab_type": "code",
        "colab": {}
      },
      "source": [
        "def plot_history():\n",
        "    plt.figure(figsize=(4,3))\n",
        "    plt.plot(best_ep,smallest_loss,'ro')\n",
        "    plt.plot(history['loss'],'b-')\n",
        "    plt.legend(['best','loss'])\n",
        "    plt.show()"
      ],
      "execution_count": 0,
      "outputs": []
    },
    {
      "cell_type": "code",
      "metadata": {
        "id": "jwTA95CQPyiU",
        "colab_type": "code",
        "colab": {}
      },
      "source": [
        "def test_bot(k = 3, beam = False):\n",
        "    print('#'*20)\n",
        "    q = 'Hello'\n",
        "    print('Greedy| Q:',q,'?  A:',answer(q, training=True))\n",
        "    if beam:print('Beam ',k,'| ',q,'?  A:',beam_search(q,k=k))\n",
        "    print('%')\n",
        "    q = 'How are you'\n",
        "    print('Greedy| Q:',q,'?  A:',answer(q, training=True))\n",
        "    if beam:print('Beam ',k,'| ',q,'?  A:',beam_search(q,k=k))\n",
        "    print('%')\n",
        "    q= 'Are you my friend'\n",
        "    print('Greedy| Q:',q,'?  A:',answer(q, training=True))\n",
        "    if beam:print('Beam ',k,'| ',q,'?  A:',beam_search(q,k=k))\n",
        "    print('%')\n",
        "    q = 'What are you doing'\n",
        "    print('Greedy| Q:',q,'?  A:',answer(q, training=True))\n",
        "    if beam:print('Beam ',k,'| ',q,'?  A:',beam_search(q,k=k))\n",
        "    print('%')\n",
        "    q = 'What your favorite restaurant'\n",
        "    print('Greedy| Q:',q,'?  A:',answer(q, training=True))\n",
        "    if beam:print('Beam ',k,'| ',q,'?  A:',beam_search(q,k=k))\n",
        "    print('%')\n",
        "    q = 'Who are you'\n",
        "    print('Greedy| Q:',q,'?  A:',answer(q, training=True))\n",
        "    if beam:print('Beam ',k,'| ',q,'?  A:',beam_search(q,k=k))\n",
        "    print('%')\n",
        "    q = 'Do you want to go out'\n",
        "    print('Greedy| Q:',q,'?  A:',answer(q, training=True))\n",
        "    if beam:print('Beam ',k,'| ',q,'?  A:',beam_search(q,k=k))\n",
        "    print('#'*20)"
      ],
      "execution_count": 0,
      "outputs": []
    },
    {
      "cell_type": "code",
      "metadata": {
        "id": "jullTQnSPMlK",
        "colab_type": "code",
        "outputId": "01e596d4-e0ab-44b1-cd6f-152c3946c859",
        "colab": {
          "base_uri": "https://localhost:8080/",
          "height": 1000
        }
      },
      "source": [
        "batch_loss = K.constant(0)\n",
        "X, y = [], []\n",
        "for ep in range(current_ep,EPOCHS):\n",
        "    current_ep = ep    \n",
        "    start = time.time()\n",
        "    total_loss = 0\n",
        "    btch = 1\n",
        "\n",
        "    for p in pairs_final_train:     \n",
        "        \n",
        "        question = p[0]\n",
        "        label = p[1]\n",
        "        # find the index of each word of the caption in vocabulary\n",
        "        question_seq = [wordtoix[word] for word in question.split(' ') if word in wordtoix]\n",
        "        label_seq = [wordtoix[word] for word in label.split(' ') if word in wordtoix]\n",
        "        # encoder input and decoder input and label\n",
        "        enc_in_seq = pad_sequences([question_seq], maxlen=max_len_q, padding='post')[0]\n",
        "        dec_out_seq = pad_sequences([label_seq], maxlen=max_len_a, padding='post')[0]\n",
        "        \n",
        "        X.append(enc_in_seq)\n",
        "        y.append(dec_out_seq)\n",
        "\n",
        "        if len(X) == batch_size :\n",
        "            batch_loss = train_step(np.array(X), np.array(y), enc_hidden)\n",
        "            total_loss += batch_loss\n",
        "            X , y = [], []\n",
        "            btch += 1\n",
        "            if btch % (steps_per_epoch//6) == 0:\n",
        "                print('Epoch {} Batch {} Loss: {:.4f}'.format(ep , btch, K.get_value(batch_loss)))\n",
        "\n",
        "    epoch_loss =  K.get_value(total_loss) / steps_per_epoch\n",
        "    print('\\n*** Epoch {} Loss {:.4f} ***\\n'.format(ep ,epoch_loss))\n",
        "    history['loss'].append(epoch_loss)\n",
        "    checkpoint.save(file_prefix = checkpoint_prefix)\n",
        "    \n",
        "    \n",
        "    test_bot(k=5)\n",
        "    if epoch_loss < smallest_loss:\n",
        "        smallest_loss = epoch_loss\n",
        "        best_ep = ep \n",
        "        print('check point saved!')\n",
        "    \n",
        "    if ep % 3 == 0:\n",
        "        plot_history()\n",
        "        \n",
        "    print('Best epoch so far: ',best_ep,' smallest loss:',smallest_loss)\n",
        "    print('Time taken for the epoch {:.3f} sec\\n'.format(time.time() - start))\n",
        "\n",
        "    print('=' * 40)\n"
      ],
      "execution_count": 38,
      "outputs": [
        {
          "output_type": "stream",
          "text": [
            "Epoch 1 Batch 225 Loss: 2.9279\n",
            "Epoch 1 Batch 450 Loss: 2.1718\n",
            "Epoch 1 Batch 675 Loss: 1.8931\n",
            "Epoch 1 Batch 900 Loss: 1.9535\n",
            "Epoch 1 Batch 1125 Loss: 1.5300\n",
            "Epoch 1 Batch 1350 Loss: 2.2725\n",
            "\n",
            "*** Epoch 1 Loss 2.1019 ***\n",
            "\n",
            "####################\n",
            "Greedy| Q: Hello ?  A: i am not you \n",
            "%\n",
            "Greedy| Q: How are you ?  A: i am not you \n",
            "%\n",
            "Greedy| Q: Are you my friend ?  A: i am not you \n",
            "%\n",
            "Greedy| Q: What are you doing ?  A: i am not you \n",
            "%\n",
            "Greedy| Q: What your favorite restaurant ?  A: i am not you \n",
            "%\n",
            "Greedy| Q: Who are you ?  A: i am not you \n",
            "%\n",
            "Greedy| Q: Do you want to go out ?  A: i am not you \n",
            "####################\n",
            "check point saved!\n",
            "Best epoch so far:  1  smallest loss: 2.1018874184631753\n",
            "Time taken for the epoch 115.673 sec\n",
            "\n",
            "========================================\n",
            "Epoch 2 Batch 225 Loss: 2.2770\n",
            "Epoch 2 Batch 450 Loss: 2.0431\n",
            "Epoch 2 Batch 675 Loss: 1.5912\n",
            "Epoch 2 Batch 900 Loss: 1.5006\n",
            "Epoch 2 Batch 1125 Loss: 1.6036\n",
            "Epoch 2 Batch 1350 Loss: 2.1900\n",
            "\n",
            "*** Epoch 2 Loss 1.8487 ***\n",
            "\n",
            "####################\n",
            "Greedy| Q: Hello ?  A: i am not you \n",
            "%\n",
            "Greedy| Q: How are you ?  A: i am not \n",
            "%\n",
            "Greedy| Q: Are you my friend ?  A: i am not \n",
            "%\n",
            "Greedy| Q: What are you doing ?  A: i am not \n",
            "%\n",
            "Greedy| Q: What your favorite restaurant ?  A: i am not \n",
            "%\n",
            "Greedy| Q: Who are you ?  A: i am not \n",
            "%\n",
            "Greedy| Q: Do you want to go out ?  A: i am not \n",
            "####################\n",
            "check point saved!\n",
            "Best epoch so far:  2  smallest loss: 1.8486899171909696\n",
            "Time taken for the epoch 90.316 sec\n",
            "\n",
            "========================================\n",
            "Epoch 3 Batch 225 Loss: 2.4222\n",
            "Epoch 3 Batch 450 Loss: 2.0513\n",
            "Epoch 3 Batch 675 Loss: 1.4171\n",
            "Epoch 3 Batch 900 Loss: 1.4940\n",
            "Epoch 3 Batch 1125 Loss: 1.5252\n",
            "Epoch 3 Batch 1350 Loss: 2.1398\n",
            "\n",
            "*** Epoch 3 Loss 1.7603 ***\n",
            "\n",
            "####################\n",
            "Greedy| Q: Hello ?  A: i am not you \n",
            "%\n",
            "Greedy| Q: How are you ?  A: i am not you \n",
            "%\n",
            "Greedy| Q: Are you my friend ?  A: i am not you \n",
            "%\n",
            "Greedy| Q: What are you doing ?  A: i am not you \n",
            "%\n",
            "Greedy| Q: What your favorite restaurant ?  A: i am not \n",
            "%\n",
            "Greedy| Q: Who are you ?  A: i am not you \n",
            "%\n",
            "Greedy| Q: Do you want to go out ?  A: i am not \n",
            "####################\n",
            "check point saved!\n"
          ],
          "name": "stdout"
        },
        {
          "output_type": "display_data",
          "data": {
            "image/png": "[encoded data removed]",
            "text/plain": [
              "<Figure size 288x216 with 1 Axes>"
            ]
          },
          "metadata": {
            "tags": [],
            "needs_background": "light"
          }
        },
        {
          "output_type": "stream",
          "text": [
            "Best epoch so far:  3  smallest loss: 1.7603200464933382\n",
            "Time taken for the epoch 91.434 sec\n",
            "\n",
            "========================================\n",
            "Epoch 4 Batch 225 Loss: 2.3284\n",
            "Epoch 4 Batch 450 Loss: 1.7959\n",
            "Epoch 4 Batch 675 Loss: 1.5575\n",
            "Epoch 4 Batch 900 Loss: 1.6609\n",
            "Epoch 4 Batch 1125 Loss: 1.4057\n",
            "Epoch 4 Batch 1350 Loss: 2.0324\n",
            "\n",
            "*** Epoch 4 Loss 1.7009 ***\n",
            "\n",
            "####################\n",
            "Greedy| Q: Hello ?  A: i am not you \n",
            "%\n",
            "Greedy| Q: How are you ?  A: i am not you \n",
            "%\n",
            "Greedy| Q: Are you my friend ?  A: i am not you \n",
            "%\n",
            "Greedy| Q: What are you doing ?  A: i am not you \n",
            "%\n",
            "Greedy| Q: What your favorite restaurant ?  A: i am not you \n",
            "%\n",
            "Greedy| Q: Who are you ?  A: i am not you \n",
            "%\n",
            "Greedy| Q: Do you want to go out ?  A: i am not \n",
            "####################\n",
            "check point saved!\n",
            "Best epoch so far:  4  smallest loss: 1.700875328171262\n",
            "Time taken for the epoch 91.667 sec\n",
            "\n",
            "========================================\n",
            "Epoch 5 Batch 225 Loss: 2.2486\n",
            "Epoch 5 Batch 450 Loss: 1.6605\n",
            "Epoch 5 Batch 675 Loss: 1.4923\n",
            "Epoch 5 Batch 900 Loss: 1.6491\n",
            "Epoch 5 Batch 1125 Loss: 1.2701\n",
            "Epoch 5 Batch 1350 Loss: 1.9547\n",
            "\n",
            "*** Epoch 5 Loss 1.6507 ***\n",
            "\n",
            "####################\n",
            "Greedy| Q: Hello ?  A: i am not you \n",
            "%\n",
            "Greedy| Q: How are you ?  A: i am not \n",
            "%\n",
            "Greedy| Q: Are you my friend ?  A: i am not you \n",
            "%\n",
            "Greedy| Q: What are you doing ?  A: i am not you \n",
            "%\n",
            "Greedy| Q: What your favorite restaurant ?  A: i am not a minute \n",
            "%\n",
            "Greedy| Q: Who are you ?  A: i am not you \n",
            "%\n",
            "Greedy| Q: Do you want to go out ?  A: i am not \n",
            "####################\n",
            "check point saved!\n",
            "Best epoch so far:  5  smallest loss: 1.6506911474717803\n",
            "Time taken for the epoch 91.186 sec\n",
            "\n",
            "========================================\n",
            "Epoch 6 Batch 225 Loss: 1.8399\n",
            "Epoch 6 Batch 450 Loss: 1.7315\n",
            "Epoch 6 Batch 675 Loss: 1.3910\n",
            "Epoch 6 Batch 900 Loss: 1.3172\n",
            "Epoch 6 Batch 1125 Loss: 1.4201\n",
            "Epoch 6 Batch 1350 Loss: 1.9461\n",
            "\n",
            "*** Epoch 6 Loss 1.6085 ***\n",
            "\n",
            "####################\n",
            "Greedy| Q: Hello ?  A: i am not you \n",
            "%\n",
            "Greedy| Q: How are you ?  A: i am not you \n",
            "%\n",
            "Greedy| Q: Are you my friend ?  A: i am not you \n",
            "%\n",
            "Greedy| Q: What are you doing ?  A: i am not you \n",
            "%\n",
            "Greedy| Q: What your favorite restaurant ?  A: i am not a girl \n",
            "%\n",
            "Greedy| Q: Who are you ?  A: i am not you \n",
            "%\n",
            "Greedy| Q: Do you want to go out ?  A: i am not you \n",
            "####################\n",
            "check point saved!\n"
          ],
          "name": "stdout"
        },
        {
          "output_type": "display_data",
          "data": {
            "image/png": "[encoded data removed]",
            "text/plain": [
              "<Figure size 288x216 with 1 Axes>"
            ]
          },
          "metadata": {
            "tags": [],
            "needs_background": "light"
          }
        },
        {
          "output_type": "stream",
          "text": [
            "Best epoch so far:  6  smallest loss: 1.6085048763069023\n",
            "Time taken for the epoch 91.900 sec\n",
            "\n",
            "========================================\n",
            "Epoch 7 Batch 225 Loss: 2.0253\n",
            "Epoch 7 Batch 450 Loss: 1.8206\n",
            "Epoch 7 Batch 675 Loss: 1.2760\n",
            "Epoch 7 Batch 900 Loss: 1.3478\n",
            "Epoch 7 Batch 1125 Loss: 1.3603\n",
            "Epoch 7 Batch 1350 Loss: 1.9530\n",
            "\n",
            "*** Epoch 7 Loss 1.5692 ***\n",
            "\n",
            "####################\n",
            "Greedy| Q: Hello ?  A: hi \n",
            "%\n",
            "Greedy| Q: How are you ?  A: i am not you \n",
            "%\n",
            "Greedy| Q: Are you my friend ?  A: i am not you \n",
            "%\n",
            "Greedy| Q: What are you doing ?  A: i am not you \n",
            "%\n",
            "Greedy| Q: What your favorite restaurant ?  A: i am not you \n",
            "%\n",
            "Greedy| Q: Who are you ?  A: i am not you \n",
            "%\n",
            "Greedy| Q: Do you want to go out ?  A: i am not you \n",
            "####################\n",
            "check point saved!\n",
            "Best epoch so far:  7  smallest loss: 1.5692096204778867\n",
            "Time taken for the epoch 95.809 sec\n",
            "\n",
            "========================================\n",
            "Epoch 8 Batch 225 Loss: 2.0062\n",
            "Epoch 8 Batch 450 Loss: 1.6172\n",
            "Epoch 8 Batch 675 Loss: 1.4077\n",
            "Epoch 8 Batch 900 Loss: 1.5047\n",
            "Epoch 8 Batch 1125 Loss: 1.2690\n",
            "Epoch 8 Batch 1350 Loss: 1.8899\n",
            "\n",
            "*** Epoch 8 Loss 1.5338 ***\n",
            "\n",
            "####################\n",
            "Greedy| Q: Hello ?  A: hi \n",
            "%\n",
            "Greedy| Q: How are you ?  A: i am not you \n",
            "%\n",
            "Greedy| Q: Are you my friend ?  A: i am not you \n",
            "%\n",
            "Greedy| Q: What are you doing ?  A: i am not you \n",
            "%\n",
            "Greedy| Q: What your favorite restaurant ?  A: i am not you \n",
            "%\n",
            "Greedy| Q: Who are you ?  A: i am not you \n",
            "%\n",
            "Greedy| Q: Do you want to go out ?  A: i am not you \n",
            "####################\n",
            "check point saved!\n",
            "Best epoch so far:  8  smallest loss: 1.5338265781134346\n",
            "Time taken for the epoch 97.520 sec\n",
            "\n",
            "========================================\n",
            "Epoch 9 Batch 225 Loss: 1.9843\n",
            "Epoch 9 Batch 450 Loss: 1.5349\n",
            "Epoch 9 Batch 675 Loss: 1.3538\n",
            "Epoch 9 Batch 900 Loss: 1.4982\n",
            "Epoch 9 Batch 1125 Loss: 1.1542\n",
            "Epoch 9 Batch 1350 Loss: 1.7984\n",
            "\n",
            "*** Epoch 9 Loss 1.5002 ***\n",
            "\n",
            "####################\n",
            "Greedy| Q: Hello ?  A: hi \n",
            "%\n",
            "Greedy| Q: How are you ?  A: i am not you \n",
            "%\n",
            "Greedy| Q: Are you my friend ?  A: i am not you \n",
            "%\n",
            "Greedy| Q: What are you doing ?  A: i am not you \n",
            "%\n",
            "Greedy| Q: What your favorite restaurant ?  A: i am not going to be a minute \n",
            "%\n",
            "Greedy| Q: Who are you ?  A: i am not you \n",
            "%\n",
            "Greedy| Q: Do you want to go out ?  A: i am not you \n",
            "####################\n",
            "check point saved!\n"
          ],
          "name": "stdout"
        },
        {
          "output_type": "display_data",
          "data": {
            "image/png": "[encoded data removed]",
            "text/plain": [
              "<Figure size 288x216 with 1 Axes>"
            ]
          },
          "metadata": {
            "tags": [],
            "needs_background": "light"
          }
        },
        {
          "output_type": "stream",
          "text": [
            "Best epoch so far:  9  smallest loss: 1.5002061009495282\n",
            "Time taken for the epoch 97.440 sec\n",
            "\n",
            "========================================\n",
            "Epoch 10 Batch 225 Loss: 1.6152\n",
            "Epoch 10 Batch 450 Loss: 1.5897\n",
            "Epoch 10 Batch 675 Loss: 1.2874\n",
            "Epoch 10 Batch 900 Loss: 1.2234\n",
            "Epoch 10 Batch 1125 Loss: 1.2772\n",
            "Epoch 10 Batch 1350 Loss: 1.8032\n",
            "\n",
            "*** Epoch 10 Loss 1.4699 ***\n",
            "\n",
            "####################\n",
            "Greedy| Q: Hello ?  A: hi \n",
            "%\n",
            "Greedy| Q: How are you ?  A: i am not you \n",
            "%\n",
            "Greedy| Q: Are you my friend ?  A: i am not you \n",
            "%\n",
            "Greedy| Q: What are you doing ?  A: i am not you \n",
            "%\n",
            "Greedy| Q: What your favorite restaurant ?  A: i am not you \n",
            "%\n",
            "Greedy| Q: Who are you ?  A: i am not you \n",
            "%\n",
            "Greedy| Q: Do you want to go out ?  A: i am not you \n",
            "####################\n",
            "check point saved!\n",
            "Best epoch so far:  10  smallest loss: 1.4699431446902758\n",
            "Time taken for the epoch 96.537 sec\n",
            "\n",
            "========================================\n",
            "Epoch 11 Batch 225 Loss: 1.7759\n",
            "Epoch 11 Batch 450 Loss: 1.6688\n",
            "Epoch 11 Batch 675 Loss: 1.1820\n",
            "Epoch 11 Batch 900 Loss: 1.2368\n",
            "Epoch 11 Batch 1125 Loss: 1.2280\n",
            "Epoch 11 Batch 1350 Loss: 1.8326\n",
            "\n",
            "*** Epoch 11 Loss 1.4398 ***\n",
            "\n",
            "####################\n",
            "Greedy| Q: Hello ?  A: hi \n",
            "%\n",
            "Greedy| Q: How are you ?  A: i am not you \n",
            "%\n",
            "Greedy| Q: Are you my friend ?  A: i am not you \n",
            "%\n",
            "Greedy| Q: What are you doing ?  A: i am not you \n",
            "%\n",
            "Greedy| Q: What your favorite restaurant ?  A: i am not you \n",
            "%\n",
            "Greedy| Q: Who are you ?  A: i am not you \n",
            "%\n",
            "Greedy| Q: Do you want to go out ?  A: i am not you \n",
            "####################\n",
            "check point saved!\n",
            "Best epoch so far:  11  smallest loss: 1.4398171674049316\n",
            "Time taken for the epoch 96.016 sec\n",
            "\n",
            "========================================\n",
            "Epoch 12 Batch 225 Loss: 1.8010\n",
            "Epoch 12 Batch 450 Loss: 1.4945\n",
            "Epoch 12 Batch 675 Loss: 1.3188\n",
            "Epoch 12 Batch 900 Loss: 1.3712\n",
            "Epoch 12 Batch 1125 Loss: 1.1645\n",
            "Epoch 12 Batch 1350 Loss: 1.7956\n",
            "\n",
            "*** Epoch 12 Loss 1.4123 ***\n",
            "\n",
            "####################\n",
            "Greedy| Q: Hello ?  A: hi \n",
            "%\n",
            "Greedy| Q: How are you ?  A: i am not you \n",
            "%\n",
            "Greedy| Q: Are you my friend ?  A: i am not you \n",
            "%\n",
            "Greedy| Q: What are you doing ?  A: i am not you \n",
            "%\n",
            "Greedy| Q: What your favorite restaurant ?  A: i am not a minute \n",
            "%\n",
            "Greedy| Q: Who are you ?  A: i am not you \n",
            "%\n",
            "Greedy| Q: Do you want to go out ?  A: i am not you \n",
            "####################\n",
            "check point saved!\n"
          ],
          "name": "stdout"
        },
        {
          "output_type": "display_data",
          "data": {
            "image/png": "[encoded data removed]",
            "text/plain": [
              "<Figure size 288x216 with 1 Axes>"
            ]
          },
          "metadata": {
            "tags": [],
            "needs_background": "light"
          }
        },
        {
          "output_type": "stream",
          "text": [
            "Best epoch so far:  12  smallest loss: 1.4122771652074853\n",
            "Time taken for the epoch 95.444 sec\n",
            "\n",
            "========================================\n",
            "Epoch 13 Batch 225 Loss: 1.8174\n",
            "Epoch 13 Batch 450 Loss: 1.4058\n",
            "Epoch 13 Batch 675 Loss: 1.2614\n",
            "Epoch 13 Batch 900 Loss: 1.3664\n",
            "Epoch 13 Batch 1125 Loss: 1.0607\n",
            "Epoch 13 Batch 1350 Loss: 1.6810\n",
            "\n",
            "*** Epoch 13 Loss 1.3843 ***\n",
            "\n",
            "####################\n",
            "Greedy| Q: Hello ?  A: i am not you \n",
            "%\n",
            "Greedy| Q: How are you ?  A: i am not you \n",
            "%\n",
            "Greedy| Q: Are you my friend ?  A: i am not you \n",
            "%\n",
            "Greedy| Q: What are you doing ?  A: i am not you \n",
            "%\n",
            "Greedy| Q: What your favorite restaurant ?  A: i am not a minute \n",
            "%\n",
            "Greedy| Q: Who are you ?  A: i am not you \n",
            "%\n",
            "Greedy| Q: Do you want to go out ?  A: i am not you \n",
            "####################\n",
            "check point saved!\n",
            "Best epoch so far:  13  smallest loss: 1.3843420383049594\n",
            "Time taken for the epoch 94.880 sec\n",
            "\n",
            "========================================\n",
            "Epoch 14 Batch 225 Loss: 1.4466\n",
            "Epoch 14 Batch 450 Loss: 1.4804\n",
            "Epoch 14 Batch 675 Loss: 1.2087\n",
            "Epoch 14 Batch 900 Loss: 1.1199\n",
            "Epoch 14 Batch 1125 Loss: 1.1745\n",
            "Epoch 14 Batch 1350 Loss: 1.7095\n",
            "\n",
            "*** Epoch 14 Loss 1.3587 ***\n",
            "\n",
            "####################\n",
            "Greedy| Q: Hello ?  A: hi \n",
            "%\n",
            "Greedy| Q: How are you ?  A: i am not you \n",
            "%\n",
            "Greedy| Q: Are you my friend ?  A: i am not you \n",
            "%\n",
            "Greedy| Q: What are you doing ?  A: i am not \n",
            "%\n",
            "Greedy| Q: What your favorite restaurant ?  A: i am not a girl \n",
            "%\n",
            "Greedy| Q: Who are you ?  A: i am not you \n",
            "%\n",
            "Greedy| Q: Do you want to go out ?  A: i am not you \n",
            "####################\n",
            "check point saved!\n",
            "Best epoch so far:  14  smallest loss: 1.3586752868245744\n",
            "Time taken for the epoch 95.244 sec\n",
            "\n",
            "========================================\n",
            "Epoch 15 Batch 225 Loss: 1.5842\n",
            "Epoch 15 Batch 450 Loss: 1.5443\n",
            "Epoch 15 Batch 675 Loss: 1.0936\n",
            "Epoch 15 Batch 900 Loss: 1.1467\n",
            "Epoch 15 Batch 1125 Loss: 1.1265\n",
            "Epoch 15 Batch 1350 Loss: 1.7699\n",
            "\n",
            "*** Epoch 15 Loss 1.3318 ***\n",
            "\n",
            "####################\n",
            "Greedy| Q: Hello ?  A: hi \n",
            "%\n",
            "Greedy| Q: How are you ?  A: i am not \n",
            "%\n",
            "Greedy| Q: Are you my friend ?  A: i am not you \n",
            "%\n",
            "Greedy| Q: What are you doing ?  A: i am not \n",
            "%\n",
            "Greedy| Q: What your favorite restaurant ?  A: i am not a girl \n",
            "%\n",
            "Greedy| Q: Who are you ?  A: i am not you \n",
            "%\n",
            "Greedy| Q: Do you want to go out ?  A: i am not going to \n",
            "####################\n",
            "check point saved!\n"
          ],
          "name": "stdout"
        },
        {
          "output_type": "display_data",
          "data": {
            "image/png": "[encoded data removed]",
            "text/plain": [
              "<Figure size 288x216 with 1 Axes>"
            ]
          },
          "metadata": {
            "tags": [],
            "needs_background": "light"
          }
        },
        {
          "output_type": "stream",
          "text": [
            "Best epoch so far:  15  smallest loss: 1.3318296668266563\n",
            "Time taken for the epoch 95.068 sec\n",
            "\n",
            "========================================\n",
            "Epoch 16 Batch 225 Loss: 1.6290\n",
            "Epoch 16 Batch 450 Loss: 1.3654\n",
            "Epoch 16 Batch 675 Loss: 1.2083\n",
            "Epoch 16 Batch 900 Loss: 1.2567\n",
            "Epoch 16 Batch 1125 Loss: 1.0961\n",
            "Epoch 16 Batch 1350 Loss: 1.7314\n",
            "\n",
            "*** Epoch 16 Loss 1.3067 ***\n",
            "\n",
            "####################\n",
            "Greedy| Q: Hello ?  A: hello \n",
            "%\n",
            "Greedy| Q: How are you ?  A: i am not it \n",
            "%\n",
            "Greedy| Q: Are you my friend ?  A: yeah \n",
            "%\n",
            "Greedy| Q: What are you doing ?  A: i am not hungry \n",
            "%\n",
            "Greedy| Q: What your favorite restaurant ?  A: i am not a hurry \n",
            "%\n",
            "Greedy| Q: Who are you ?  A: i am not you \n",
            "%\n",
            "Greedy| Q: Do you want to go out ?  A: i am not going to \n",
            "####################\n",
            "check point saved!\n",
            "Best epoch so far:  16  smallest loss: 1.306739383587389\n",
            "Time taken for the epoch 92.823 sec\n",
            "\n",
            "========================================\n",
            "Epoch 17 Batch 225 Loss: 1.6612\n",
            "Epoch 17 Batch 450 Loss: 1.3040\n",
            "Epoch 17 Batch 675 Loss: 1.1800\n",
            "Epoch 17 Batch 900 Loss: 1.2594\n",
            "Epoch 17 Batch 1125 Loss: 0.9964\n",
            "Epoch 17 Batch 1350 Loss: 1.6101\n",
            "\n",
            "*** Epoch 17 Loss 1.2815 ***\n",
            "\n",
            "####################\n",
            "Greedy| Q: Hello ?  A: hello \n",
            "%\n",
            "Greedy| Q: How are you ?  A: i am not i \n",
            "%\n",
            "Greedy| Q: Are you my friend ?  A: yeah \n",
            "%\n",
            "Greedy| Q: What are you doing ?  A: i am not hungry \n",
            "%\n",
            "Greedy| Q: What your favorite restaurant ?  A: i am not a group one \n",
            "%\n",
            "Greedy| Q: Who are you ?  A: i am not you \n",
            "%\n",
            "Greedy| Q: Do you want to go out ?  A: i am not you \n",
            "####################\n",
            "check point saved!\n",
            "Best epoch so far:  17  smallest loss: 1.2815209762155348\n",
            "Time taken for the epoch 92.058 sec\n",
            "\n",
            "========================================\n",
            "Epoch 18 Batch 225 Loss: 1.3100\n",
            "Epoch 18 Batch 450 Loss: 1.3562\n",
            "Epoch 18 Batch 675 Loss: 1.1341\n",
            "Epoch 18 Batch 900 Loss: 1.0464\n",
            "Epoch 18 Batch 1125 Loss: 1.0951\n",
            "Epoch 18 Batch 1350 Loss: 1.5590\n",
            "\n",
            "*** Epoch 18 Loss 1.2584 ***\n",
            "\n",
            "####################\n",
            "Greedy| Q: Hello ?  A: hello \n",
            "%\n",
            "Greedy| Q: How are you ?  A: i am not i \n",
            "%\n",
            "Greedy| Q: Are you my friend ?  A: yeah \n",
            "%\n",
            "Greedy| Q: What are you doing ?  A: i am not it \n",
            "%\n",
            "Greedy| Q: What your favorite restaurant ?  A: i am not a group one \n",
            "%\n",
            "Greedy| Q: Who are you ?  A: i am not you \n",
            "%\n",
            "Greedy| Q: Do you want to go out ?  A: i am not you \n",
            "####################\n",
            "check point saved!\n"
          ],
          "name": "stdout"
        },
        {
          "output_type": "display_data",
          "data": {
            "image/png": "[encoded data removed]",
            "text/plain": [
              "<Figure size 288x216 with 1 Axes>"
            ]
          },
          "metadata": {
            "tags": [],
            "needs_background": "light"
          }
        },
        {
          "output_type": "stream",
          "text": [
            "Best epoch so far:  18  smallest loss: 1.2583603255401092\n",
            "Time taken for the epoch 92.275 sec\n",
            "\n",
            "========================================\n",
            "Epoch 19 Batch 225 Loss: 1.4326\n",
            "Epoch 19 Batch 450 Loss: 1.4430\n",
            "Epoch 19 Batch 675 Loss: 1.0145\n",
            "Epoch 19 Batch 900 Loss: 1.0694\n",
            "Epoch 19 Batch 1125 Loss: 1.0480\n",
            "Epoch 19 Batch 1350 Loss: 1.6028\n",
            "\n",
            "*** Epoch 19 Loss 1.2341 ***\n",
            "\n",
            "####################\n",
            "Greedy| Q: Hello ?  A: hi \n",
            "%\n",
            "Greedy| Q: How are you ?  A: i am not it \n",
            "%\n",
            "Greedy| Q: Are you my friend ?  A: yeah \n",
            "%\n",
            "Greedy| Q: What are you doing ?  A: i am going to you \n",
            "%\n",
            "Greedy| Q: What your favorite restaurant ?  A: i am not a hurry \n",
            "%\n",
            "Greedy| Q: Who are you ?  A: i am going on \n",
            "%\n",
            "Greedy| Q: Do you want to go out ?  A: i am not you \n",
            "####################\n",
            "check point saved!\n",
            "Best epoch so far:  19  smallest loss: 1.2341012227632309\n",
            "Time taken for the epoch 91.912 sec\n",
            "\n",
            "========================================\n",
            "Epoch 20 Batch 225 Loss: 1.4715\n",
            "Epoch 20 Batch 450 Loss: 1.2769\n",
            "Epoch 20 Batch 675 Loss: 1.1223\n",
            "Epoch 20 Batch 900 Loss: 1.1544\n",
            "Epoch 20 Batch 1125 Loss: 1.0107\n",
            "Epoch 20 Batch 1350 Loss: 1.6024\n",
            "\n",
            "*** Epoch 20 Loss 1.2108 ***\n",
            "\n",
            "####################\n",
            "Greedy| Q: Hello ?  A: hello \n",
            "%\n",
            "Greedy| Q: How are you ?  A: i am not it \n",
            "%\n",
            "Greedy| Q: Are you my friend ?  A: no \n",
            "%\n",
            "Greedy| Q: What are you doing ?  A: i am going to you \n",
            "%\n",
            "Greedy| Q: What your favorite restaurant ?  A: i am not a chance to the time \n",
            "%\n",
            "Greedy| Q: Who are you ?  A: i am going to say \n",
            "%\n",
            "Greedy| Q: Do you want to go out ?  A: i am not sure \n",
            "####################\n",
            "check point saved!\n",
            "Best epoch so far:  20  smallest loss: 1.2107543493534882\n",
            "Time taken for the epoch 90.267 sec\n",
            "\n",
            "========================================\n",
            "Epoch 21 Batch 225 Loss: 1.4909\n",
            "Epoch 21 Batch 450 Loss: 1.2472\n",
            "Epoch 21 Batch 675 Loss: 1.1033\n",
            "Epoch 21 Batch 900 Loss: 1.1667\n",
            "Epoch 21 Batch 1125 Loss: 0.9282\n",
            "Epoch 21 Batch 1350 Loss: 1.4871\n",
            "\n",
            "*** Epoch 21 Loss 1.1877 ***\n",
            "\n",
            "####################\n",
            "Greedy| Q: Hello ?  A: hello \n",
            "%\n",
            "Greedy| Q: How are you ?  A: i am not sure \n",
            "%\n",
            "Greedy| Q: Are you my friend ?  A: no \n",
            "%\n",
            "Greedy| Q: What are you doing ?  A: i am not worthy \n",
            "%\n",
            "Greedy| Q: What your favorite restaurant ?  A: i am not a hurry \n",
            "%\n",
            "Greedy| Q: Who are you ?  A: i am not a sin \n",
            "%\n",
            "Greedy| Q: Do you want to go out ?  A: i am not sure \n",
            "####################\n",
            "check point saved!\n"
          ],
          "name": "stdout"
        },
        {
          "output_type": "display_data",
          "data": {
            "image/png": "[encoded data removed]",
            "text/plain": [
              "<Figure size 288x216 with 1 Axes>"
            ]
          },
          "metadata": {
            "tags": [],
            "needs_background": "light"
          }
        },
        {
          "output_type": "stream",
          "text": [
            "Best epoch so far:  21  smallest loss: 1.1876916440657384\n",
            "Time taken for the epoch 88.446 sec\n",
            "\n",
            "========================================\n",
            "Epoch 22 Batch 225 Loss: 1.1953\n",
            "Epoch 22 Batch 450 Loss: 1.2503\n",
            "Epoch 22 Batch 675 Loss: 1.0597\n",
            "Epoch 22 Batch 900 Loss: 0.9957\n",
            "Epoch 22 Batch 1125 Loss: 1.0292\n",
            "Epoch 22 Batch 1350 Loss: 1.4170\n",
            "\n",
            "*** Epoch 22 Loss 1.1649 ***\n",
            "\n",
            "####################\n",
            "Greedy| Q: Hello ?  A: hi \n",
            "%\n",
            "Greedy| Q: How are you ?  A: i am not sure \n",
            "%\n",
            "Greedy| Q: Are you my friend ?  A: no \n",
            "%\n",
            "Greedy| Q: What are you doing ?  A: i am not sure \n",
            "%\n",
            "Greedy| Q: What your favorite restaurant ?  A: i am not a group one \n",
            "%\n",
            "Greedy| Q: Who are you ?  A: i am not you \n",
            "%\n",
            "Greedy| Q: Do you want to go out ?  A: i am not sure \n",
            "####################\n",
            "check point saved!\n",
            "Best epoch so far:  22  smallest loss: 1.1649375028913767\n",
            "Time taken for the epoch 87.372 sec\n",
            "\n",
            "========================================\n",
            "Epoch 23 Batch 225 Loss: 1.2746\n",
            "Epoch 23 Batch 450 Loss: 1.3159\n",
            "Epoch 23 Batch 675 Loss: 0.9577\n",
            "Epoch 23 Batch 900 Loss: 0.9723\n",
            "Epoch 23 Batch 1125 Loss: 0.9733\n",
            "Epoch 23 Batch 1350 Loss: 1.4818\n",
            "\n",
            "*** Epoch 23 Loss 1.1439 ***\n",
            "\n",
            "####################\n",
            "Greedy| Q: Hello ?  A: i am not you \n",
            "%\n",
            "Greedy| Q: How are you ?  A: i am not a minute \n",
            "%\n",
            "Greedy| Q: Are you my friend ?  A: no \n",
            "%\n",
            "Greedy| Q: What are you doing ?  A: i am not sure \n",
            "%\n",
            "Greedy| Q: What your favorite restaurant ?  A: i am not a girl \n",
            "%\n",
            "Greedy| Q: Who are you ?  A: i am not a sin \n",
            "%\n",
            "Greedy| Q: Do you want to go out ?  A: i am not sure \n",
            "####################\n",
            "check point saved!\n",
            "Best epoch so far:  23  smallest loss: 1.143939059897761\n",
            "Time taken for the epoch 87.330 sec\n",
            "\n",
            "========================================\n",
            "Epoch 24 Batch 225 Loss: 1.3570\n",
            "Epoch 24 Batch 450 Loss: 1.1806\n",
            "Epoch 24 Batch 675 Loss: 1.0617\n",
            "Epoch 24 Batch 900 Loss: 1.0418\n",
            "Epoch 24 Batch 1125 Loss: 0.9659\n",
            "Epoch 24 Batch 1350 Loss: 1.5153\n",
            "\n",
            "*** Epoch 24 Loss 1.1232 ***\n",
            "\n",
            "####################\n",
            "Greedy| Q: Hello ?  A: hi \n",
            "%\n",
            "Greedy| Q: How are you ?  A: i am not a minute \n",
            "%\n",
            "Greedy| Q: Are you my friend ?  A: yes \n",
            "%\n",
            "Greedy| Q: What are you doing ?  A: i am not sure \n",
            "%\n",
            "Greedy| Q: What your favorite restaurant ?  A: i am not a hurry \n",
            "%\n",
            "Greedy| Q: Who are you ?  A: i am not a sin \n",
            "%\n",
            "Greedy| Q: Do you want to go out ?  A: i am not sure \n",
            "####################\n",
            "check point saved!\n"
          ],
          "name": "stdout"
        },
        {
          "output_type": "display_data",
          "data": {
            "image/png": "[encoded data removed]",
            "text/plain": [
              "<Figure size 288x216 with 1 Axes>"
            ]
          },
          "metadata": {
            "tags": [],
            "needs_background": "light"
          }
        },
        {
          "output_type": "stream",
          "text": [
            "Best epoch so far:  24  smallest loss: 1.1231749087770633\n",
            "Time taken for the epoch 88.057 sec\n",
            "\n",
            "========================================\n",
            "Epoch 25 Batch 225 Loss: 1.3874\n",
            "Epoch 25 Batch 450 Loss: 1.1474\n",
            "Epoch 25 Batch 675 Loss: 1.0289\n",
            "Epoch 25 Batch 900 Loss: 1.0520\n",
            "Epoch 25 Batch 1125 Loss: 0.8712\n",
            "Epoch 25 Batch 1350 Loss: 1.4018\n",
            "\n",
            "*** Epoch 25 Loss 1.1007 ***\n",
            "\n",
            "####################\n",
            "Greedy| Q: Hello ?  A: i am a dying art \n",
            "%\n",
            "Greedy| Q: How are you ?  A: i am not a nasty of the presidents \n",
            "%\n",
            "Greedy| Q: Are you my friend ?  A: yes \n",
            "%\n",
            "Greedy| Q: What are you doing ?  A: i am not hungry \n",
            "%\n",
            "Greedy| Q: What your favorite restaurant ?  A: i am not surprised \n",
            "%\n",
            "Greedy| Q: Who are you ?  A: i am not you \n",
            "%\n",
            "Greedy| Q: Do you want to go out ?  A: i am not going anywhere \n",
            "####################\n",
            "check point saved!\n",
            "Best epoch so far:  25  smallest loss: 1.1006819854216783\n",
            "Time taken for the epoch 88.070 sec\n",
            "\n",
            "========================================\n",
            "Epoch 26 Batch 225 Loss: 1.1037\n",
            "Epoch 26 Batch 450 Loss: 1.1607\n",
            "Epoch 26 Batch 675 Loss: 0.9943\n",
            "Epoch 26 Batch 900 Loss: 0.9253\n",
            "Epoch 26 Batch 1125 Loss: 0.9842\n",
            "Epoch 26 Batch 1350 Loss: 1.3142\n",
            "\n",
            "*** Epoch 26 Loss 1.0789 ***\n",
            "\n",
            "####################\n",
            "Greedy| Q: Hello ?  A: i am not you \n",
            "%\n",
            "Greedy| Q: How are you ?  A: i am going to the hopes \n",
            "%\n",
            "Greedy| Q: Are you my friend ?  A: yes \n",
            "%\n",
            "Greedy| Q: What are you doing ?  A: i am going to michigan \n",
            "%\n",
            "Greedy| Q: What your favorite restaurant ?  A: i am not a hurry \n",
            "%\n",
            "Greedy| Q: Who are you ?  A: i am a comedian \n",
            "%\n",
            "Greedy| Q: Do you want to go out ?  A: i am not going anywhere \n",
            "####################\n",
            "check point saved!\n",
            "Best epoch so far:  26  smallest loss: 1.0788567893863341\n",
            "Time taken for the epoch 88.422 sec\n",
            "\n",
            "========================================\n",
            "Epoch 27 Batch 225 Loss: 1.1768\n",
            "Epoch 27 Batch 450 Loss: 1.2087\n",
            "Epoch 27 Batch 675 Loss: 0.8812\n",
            "Epoch 27 Batch 900 Loss: 0.8949\n",
            "Epoch 27 Batch 1125 Loss: 0.9213\n",
            "Epoch 27 Batch 1350 Loss: 1.3923\n",
            "\n",
            "*** Epoch 27 Loss 1.0557 ***\n",
            "\n",
            "####################\n",
            "Greedy| Q: Hello ?  A: i am not you \n",
            "%\n",
            "Greedy| Q: How are you ?  A: i am doing \n",
            "%\n",
            "Greedy| Q: Are you my friend ?  A: yes \n",
            "%\n",
            "Greedy| Q: What are you doing ?  A: i am doing fine \n",
            "%\n",
            "Greedy| Q: What your favorite restaurant ?  A: it is not a group girl \n",
            "%\n",
            "Greedy| Q: Who are you ?  A: alvy alvy singer \n",
            "%\n",
            "Greedy| Q: Do you want to go out ?  A: i am not it \n",
            "####################\n",
            "check point saved!\n"
          ],
          "name": "stdout"
        },
        {
          "output_type": "display_data",
          "data": {
            "image/png": "[encoded data removed]",
            "text/plain": [
              "<Figure size 288x216 with 1 Axes>"
            ]
          },
          "metadata": {
            "tags": [],
            "needs_background": "light"
          }
        },
        {
          "output_type": "stream",
          "text": [
            "Best epoch so far:  27  smallest loss: 1.0556766219177924\n",
            "Time taken for the epoch 88.867 sec\n",
            "\n",
            "========================================\n",
            "Epoch 28 Batch 225 Loss: 1.2003\n",
            "Epoch 28 Batch 450 Loss: 1.0651\n",
            "Epoch 28 Batch 675 Loss: 0.9809\n",
            "Epoch 28 Batch 900 Loss: 0.9513\n",
            "Epoch 28 Batch 1125 Loss: 0.9167\n",
            "Epoch 28 Batch 1350 Loss: 1.4244\n",
            "\n",
            "*** Epoch 28 Loss 1.0345 ***\n",
            "\n",
            "####################\n",
            "Greedy| Q: Hello ?  A: i am a dying art \n",
            "%\n",
            "Greedy| Q: How are you ?  A: i am going to see you \n",
            "%\n",
            "Greedy| Q: Are you my friend ?  A: yes \n",
            "%\n",
            "Greedy| Q: What are you doing ?  A: i am i \n",
            "%\n",
            "Greedy| Q: What your favorite restaurant ?  A: i am not she \n",
            "%\n",
            "Greedy| Q: Who are you ?  A: alvy alvy singer \n",
            "%\n",
            "Greedy| Q: Do you want to go out ?  A: no \n",
            "####################\n",
            "check point saved!\n",
            "Best epoch so far:  28  smallest loss: 1.0345227674234363\n",
            "Time taken for the epoch 89.216 sec\n",
            "\n",
            "========================================\n",
            "Epoch 29 Batch 225 Loss: 1.2804\n",
            "Epoch 29 Batch 450 Loss: 1.0505\n",
            "Epoch 29 Batch 675 Loss: 0.9828\n",
            "Epoch 29 Batch 900 Loss: 0.9385\n",
            "Epoch 29 Batch 1125 Loss: 0.8163\n",
            "Epoch 29 Batch 1350 Loss: 1.3060\n",
            "\n",
            "*** Epoch 29 Loss 1.0145 ***\n",
            "\n",
            "####################\n",
            "Greedy| Q: Hello ?  A: i am a dying \n",
            "%\n",
            "Greedy| Q: How are you ?  A: i am i am not it \n",
            "%\n",
            "Greedy| Q: Are you my friend ?  A: yes \n",
            "%\n",
            "Greedy| Q: What are you doing ?  A: i am going to you \n",
            "%\n",
            "Greedy| Q: What your favorite restaurant ?  A: i am not she \n",
            "%\n",
            "Greedy| Q: Who are you ?  A: alvy alvy singer \n",
            "%\n",
            "Greedy| Q: Do you want to go out ?  A: no \n",
            "####################\n",
            "check point saved!\n",
            "Best epoch so far:  29  smallest loss: 1.0144614919214934\n",
            "Time taken for the epoch 89.518 sec\n",
            "\n",
            "========================================\n",
            "Epoch 30 Batch 225 Loss: 1.0104\n",
            "Epoch 30 Batch 450 Loss: 1.0699\n",
            "Epoch 30 Batch 675 Loss: 0.9373\n",
            "Epoch 30 Batch 900 Loss: 0.8534\n",
            "Epoch 30 Batch 1125 Loss: 0.9249\n",
            "Epoch 30 Batch 1350 Loss: 1.2298\n",
            "\n",
            "*** Epoch 30 Loss 0.9962 ***\n",
            "\n",
            "####################\n",
            "Greedy| Q: Hello ?  A: i am a mistake \n",
            "%\n",
            "Greedy| Q: How are you ?  A: i am doing \n",
            "%\n",
            "Greedy| Q: Are you my friend ?  A: yes \n",
            "%\n",
            "Greedy| Q: What are you doing ?  A: i am going to know \n",
            "%\n",
            "Greedy| Q: What your favorite restaurant ?  A: i am not a start \n",
            "%\n",
            "Greedy| Q: Who are you ?  A: i am a comedian \n",
            "%\n",
            "Greedy| Q: Do you want to go out ?  A: no \n",
            "####################\n",
            "check point saved!\n"
          ],
          "name": "stdout"
        },
        {
          "output_type": "display_data",
          "data": {
            "image/png": "[encoded data removed]",
            "text/plain": [
              "<Figure size 288x216 with 1 Axes>"
            ]
          },
          "metadata": {
            "tags": [],
            "needs_background": "light"
          }
        },
        {
          "output_type": "stream",
          "text": [
            "Best epoch so far:  30  smallest loss: 0.996163143042191\n",
            "Time taken for the epoch 90.364 sec\n",
            "\n",
            "========================================\n",
            "Epoch 31 Batch 225 Loss: 1.0636\n",
            "Epoch 31 Batch 450 Loss: 1.1206\n",
            "Epoch 31 Batch 675 Loss: 0.8170\n",
            "Epoch 31 Batch 900 Loss: 0.8363\n",
            "Epoch 31 Batch 1125 Loss: 0.8754\n",
            "Epoch 31 Batch 1350 Loss: 1.3374\n",
            "\n",
            "*** Epoch 31 Loss 0.9780 ***\n",
            "\n",
            "####################\n",
            "Greedy| Q: Hello ?  A: i am a bit of the leg \n",
            "%\n",
            "Greedy| Q: How are you ?  A: i am i am not a minute \n",
            "%\n",
            "Greedy| Q: Are you my friend ?  A: no \n",
            "%\n",
            "Greedy| Q: What are you doing ?  A: i am doing fine \n",
            "%\n",
            "Greedy| Q: What your favorite restaurant ?  A: i am not a start \n",
            "%\n",
            "Greedy| Q: Who are you ?  A: i am a comedian \n",
            "%\n",
            "Greedy| Q: Do you want to go out ?  A: no \n",
            "####################\n",
            "check point saved!\n",
            "Best epoch so far:  31  smallest loss: 0.9779561435973353\n",
            "Time taken for the epoch 89.979 sec\n",
            "\n",
            "========================================\n",
            "Epoch 32 Batch 225 Loss: 1.1295\n",
            "Epoch 32 Batch 450 Loss: 0.9718\n",
            "Epoch 32 Batch 675 Loss: 0.9024\n",
            "Epoch 32 Batch 900 Loss: 0.8744\n",
            "Epoch 32 Batch 1125 Loss: 0.8813\n",
            "Epoch 32 Batch 1350 Loss: 1.3602\n",
            "\n",
            "*** Epoch 32 Loss 0.9569 ***\n",
            "\n",
            "####################\n",
            "Greedy| Q: Hello ?  A: i am a bit of the leg \n",
            "%\n",
            "Greedy| Q: How are you ?  A: i am going to say \n",
            "%\n",
            "Greedy| Q: Are you my friend ?  A: yes \n",
            "%\n",
            "Greedy| Q: What are you doing ?  A: of course \n",
            "%\n",
            "Greedy| Q: What your favorite restaurant ?  A: i am not a start \n",
            "%\n",
            "Greedy| Q: Who are you ?  A: i am a comedian \n",
            "%\n",
            "Greedy| Q: Do you want to go out ?  A: no \n",
            "####################\n",
            "check point saved!\n",
            "Best epoch so far:  32  smallest loss: 0.9569109867979737\n",
            "Time taken for the epoch 89.599 sec\n",
            "\n",
            "========================================\n",
            "Epoch 33 Batch 225 Loss: 1.1429\n",
            "Epoch 33 Batch 450 Loss: 0.9642\n",
            "Epoch 33 Batch 675 Loss: 0.9255\n",
            "Epoch 33 Batch 900 Loss: 0.8884\n",
            "Epoch 33 Batch 1125 Loss: 0.7532\n",
            "Epoch 33 Batch 1350 Loss: 1.2440\n",
            "\n",
            "*** Epoch 33 Loss 0.9373 ***\n",
            "\n",
            "####################\n",
            "Greedy| Q: Hello ?  A: i am a bit of the leg \n",
            "%\n",
            "Greedy| Q: How are you ?  A: i am a comedian \n",
            "%\n",
            "Greedy| Q: Are you my friend ?  A: no \n",
            "%\n",
            "Greedy| Q: What are you doing ?  A: lip reading \n",
            "%\n",
            "Greedy| Q: What your favorite restaurant ?  A: not in the kitchen \n",
            "%\n",
            "Greedy| Q: Who are you ?  A: i am a comedian \n",
            "%\n",
            "Greedy| Q: Do you want to go out ?  A: no \n",
            "####################\n",
            "check point saved!\n"
          ],
          "name": "stdout"
        },
        {
          "output_type": "display_data",
          "data": {
            "image/png": "[encoded data removed]",
            "text/plain": [
              "<Figure size 288x216 with 1 Axes>"
            ]
          },
          "metadata": {
            "tags": [],
            "needs_background": "light"
          }
        },
        {
          "output_type": "stream",
          "text": [
            "Best epoch so far:  33  smallest loss: 0.9372896523408586\n",
            "Time taken for the epoch 90.186 sec\n",
            "\n",
            "========================================\n",
            "Epoch 34 Batch 225 Loss: 0.8772\n",
            "Epoch 34 Batch 450 Loss: 1.0144\n",
            "Epoch 34 Batch 675 Loss: 0.8625\n",
            "Epoch 34 Batch 900 Loss: 0.8052\n",
            "Epoch 34 Batch 1125 Loss: 0.8544\n",
            "Epoch 34 Batch 1350 Loss: 1.1676\n",
            "\n",
            "*** Epoch 34 Loss 0.9174 ***\n",
            "\n",
            "####################\n",
            "Greedy| Q: Hello ?  A: i am going to \n",
            "%\n",
            "Greedy| Q: How are you ?  A: i am doing fine \n",
            "%\n",
            "Greedy| Q: Are you my friend ?  A: no \n",
            "%\n",
            "Greedy| Q: What are you doing ?  A: lip reading \n",
            "%\n",
            "Greedy| Q: What your favorite restaurant ?  A: i am not gonna kill me \n",
            "%\n",
            "Greedy| Q: Who are you ?  A: i am a comedian \n",
            "%\n",
            "Greedy| Q: Do you want to go out ?  A: no \n",
            "####################\n",
            "check point saved!\n",
            "Best epoch so far:  34  smallest loss: 0.9174136056624722\n",
            "Time taken for the epoch 94.402 sec\n",
            "\n",
            "========================================\n",
            "Epoch 35 Batch 225 Loss: 0.9146\n",
            "Epoch 35 Batch 450 Loss: 1.0405\n",
            "Epoch 35 Batch 675 Loss: 0.7288\n",
            "Epoch 35 Batch 900 Loss: 0.7849\n",
            "Epoch 35 Batch 1125 Loss: 0.8014\n",
            "Epoch 35 Batch 1350 Loss: 1.2563\n",
            "\n",
            "*** Epoch 35 Loss 0.8992 ***\n",
            "\n",
            "####################\n",
            "Greedy| Q: Hello ?  A: i am going to do you \n",
            "%\n",
            "Greedy| Q: How are you ?  A: i am not near \n",
            "%\n",
            "Greedy| Q: Are you my friend ?  A: no \n",
            "%\n",
            "Greedy| Q: What are you doing ?  A: lip reading \n",
            "%\n",
            "Greedy| Q: What your favorite restaurant ?  A: it is too much better \n",
            "%\n",
            "Greedy| Q: Who are you ?  A: alvy alvy singer \n",
            "%\n",
            "Greedy| Q: Do you want to go out ?  A: no \n",
            "####################\n",
            "check point saved!\n",
            "Best epoch so far:  35  smallest loss: 0.899158717790063\n",
            "Time taken for the epoch 93.662 sec\n",
            "\n",
            "========================================\n",
            "Epoch 36 Batch 225 Loss: 0.9895\n",
            "Epoch 36 Batch 450 Loss: 0.9148\n",
            "Epoch 36 Batch 675 Loss: 0.8426\n",
            "Epoch 36 Batch 900 Loss: 0.8365\n",
            "Epoch 36 Batch 1125 Loss: 0.7985\n",
            "Epoch 36 Batch 1350 Loss: 1.2634\n",
            "\n",
            "*** Epoch 36 Loss 0.8799 ***\n",
            "\n",
            "####################\n",
            "Greedy| Q: Hello ?  A: i am going to do \n",
            "%\n",
            "Greedy| Q: How are you ?  A: i am a comedian \n",
            "%\n",
            "Greedy| Q: Are you my friend ?  A: no \n",
            "%\n",
            "Greedy| Q: What are you doing ?  A: lip reading \n",
            "%\n",
            "Greedy| Q: What your favorite restaurant ?  A: it is too much \n",
            "%\n",
            "Greedy| Q: Who are you ?  A: alvy alvy singer \n",
            "%\n",
            "Greedy| Q: Do you want to go out ?  A: no \n",
            "####################\n",
            "check point saved!\n"
          ],
          "name": "stdout"
        },
        {
          "output_type": "display_data",
          "data": {
            "image/png": "[encoded data removed]",
            "text/plain": [
              "<Figure size 288x216 with 1 Axes>"
            ]
          },
          "metadata": {
            "tags": [],
            "needs_background": "light"
          }
        },
        {
          "output_type": "stream",
          "text": [
            "Best epoch so far:  36  smallest loss: 0.879889408453229\n",
            "Time taken for the epoch 92.100 sec\n",
            "\n",
            "========================================\n",
            "Epoch 37 Batch 225 Loss: 1.0084\n",
            "Epoch 37 Batch 450 Loss: 0.8716\n",
            "Epoch 37 Batch 675 Loss: 0.8611\n",
            "Epoch 37 Batch 900 Loss: 0.8172\n",
            "Epoch 37 Batch 1125 Loss: 0.6778\n",
            "Epoch 37 Batch 1350 Loss: 1.1464\n",
            "\n",
            "*** Epoch 37 Loss 0.8617 ***\n",
            "\n",
            "####################\n",
            "Greedy| Q: Hello ?  A: i am going to do \n",
            "%\n",
            "Greedy| Q: How are you ?  A: i am doing fine \n",
            "%\n",
            "Greedy| Q: Are you my friend ?  A: no \n",
            "%\n",
            "Greedy| Q: What are you doing ?  A: lip reading \n",
            "%\n",
            "Greedy| Q: What your favorite restaurant ?  A: it was sick \n",
            "%\n",
            "Greedy| Q: Who are you ?  A: i am a comedian \n",
            "%\n",
            "Greedy| Q: Do you want to go out ?  A: no \n",
            "####################\n",
            "check point saved!\n",
            "Best epoch so far:  37  smallest loss: 0.8616521399079385\n",
            "Time taken for the epoch 91.884 sec\n",
            "\n",
            "========================================\n",
            "Epoch 38 Batch 225 Loss: 0.8053\n",
            "Epoch 38 Batch 450 Loss: 0.8937\n",
            "Epoch 38 Batch 675 Loss: 0.7916\n",
            "Epoch 38 Batch 900 Loss: 0.7342\n",
            "Epoch 38 Batch 1125 Loss: 0.7728\n",
            "Epoch 38 Batch 1350 Loss: 1.0797\n",
            "\n",
            "*** Epoch 38 Loss 0.8453 ***\n",
            "\n",
            "####################\n",
            "Greedy| Q: Hello ?  A: i am going to do \n",
            "%\n",
            "Greedy| Q: How are you ?  A: i am doing fine \n",
            "%\n",
            "Greedy| Q: Are you my friend ?  A: no \n",
            "%\n",
            "Greedy| Q: What are you doing ?  A: lip reading \n",
            "%\n",
            "Greedy| Q: What your favorite restaurant ?  A: it is too much better \n",
            "%\n",
            "Greedy| Q: Who are you ?  A: i am a comedian \n",
            "%\n",
            "Greedy| Q: Do you want to go out ?  A: no \n",
            "####################\n",
            "check point saved!\n",
            "Best epoch so far:  38  smallest loss: 0.8453452267706791\n",
            "Time taken for the epoch 91.942 sec\n",
            "\n",
            "========================================\n",
            "Epoch 39 Batch 225 Loss: 0.8066\n",
            "Epoch 39 Batch 450 Loss: 0.9332\n",
            "Epoch 39 Batch 675 Loss: 0.6930\n",
            "Epoch 39 Batch 900 Loss: 0.7330\n",
            "Epoch 39 Batch 1125 Loss: 0.7314\n",
            "Epoch 39 Batch 1350 Loss: 1.1609\n",
            "\n",
            "*** Epoch 39 Loss 0.8286 ***\n",
            "\n",
            "####################\n",
            "Greedy| Q: Hello ?  A: i am going to do \n",
            "%\n",
            "Greedy| Q: How are you ?  A: i am doing here \n",
            "%\n",
            "Greedy| Q: Are you my friend ?  A: no \n",
            "%\n",
            "Greedy| Q: What are you doing ?  A: lip reading \n",
            "%\n",
            "Greedy| Q: What your favorite restaurant ?  A: it is enough \n",
            "%\n",
            "Greedy| Q: Who are you ?  A: i am a comedian \n",
            "%\n",
            "Greedy| Q: Do you want to go out ?  A: no \n",
            "####################\n",
            "check point saved!\n"
          ],
          "name": "stdout"
        },
        {
          "output_type": "display_data",
          "data": {
            "image/png": "[encoded data removed]",
            "text/plain": [
              "<Figure size 288x216 with 1 Axes>"
            ]
          },
          "metadata": {
            "tags": [],
            "needs_background": "light"
          }
        },
        {
          "output_type": "stream",
          "text": [
            "Best epoch so far:  39  smallest loss: 0.8285900598804127\n",
            "Time taken for the epoch 91.917 sec\n",
            "\n",
            "========================================\n"
          ],
          "name": "stdout"
        }
      ]
    },
    {
      "cell_type": "code",
      "metadata": {
        "id": "JyL3uvE7PMrd",
        "colab_type": "code",
        "colab": {
          "base_uri": "https://localhost:8080/",
          "height": 34
        },
        "outputId": "abc91515-25cd-40f5-ef32-621ee4dbb8e7"
      },
      "source": [
        "checkpoint.restore(snapshot_folder+'/'+str(emb_dim)+\"-ckpt-39\")\n"
      ],
      "execution_count": 42,
      "outputs": [
        {
          "output_type": "execute_result",
          "data": {
            "text/plain": [
              "<tensorflow.python.training.tracking.util.CheckpointLoadStatus at 0x7f285da1be10>"
            ]
          },
          "metadata": {
            "tags": []
          },
          "execution_count": 42
        }
      ]
    },
    {
      "cell_type": "code",
      "metadata": {
        "id": "jXH2j0KsPMtP",
        "colab_type": "code",
        "colab": {
          "base_uri": "https://localhost:8080/",
          "height": 269
        },
        "outputId": "63ac0df9-83e2-4346-a3b5-84f1bfa2bb8a"
      },
      "source": [
        "test_bot()"
      ],
      "execution_count": 43,
      "outputs": [
        {
          "output_type": "stream",
          "text": [
            "####################\n",
            "Greedy| Q: Hello ?  A: i am going to do \n",
            "%\n",
            "Greedy| Q: How are you ?  A: i am doing here \n",
            "%\n",
            "Greedy| Q: Are you my friend ?  A: no \n",
            "%\n",
            "Greedy| Q: What are you doing ?  A: lip reading \n",
            "%\n",
            "Greedy| Q: What your favorite restaurant ?  A: it is enough \n",
            "%\n",
            "Greedy| Q: Who are you ?  A: i am a comedian \n",
            "%\n",
            "Greedy| Q: Do you want to go out ?  A: no \n",
            "####################\n"
          ],
          "name": "stdout"
        }
      ]
    },
    {
      "cell_type": "code",
      "metadata": {
        "id": "qFo7cmTFPMvb",
        "colab_type": "code",
        "colab": {
          "base_uri": "https://localhost:8080/",
          "height": 373
        },
        "outputId": "bda78a4e-f883-4b6b-aadf-be053893fab1"
      },
      "source": [
        "q = \"I like you\"\n",
        "answer(q, training=False)"
      ],
      "execution_count": 44,
      "outputs": [
        {
          "output_type": "stream",
          "text": [
            "Input: i like you\n",
            "Predicted answer: it is not the way \n"
          ],
          "name": "stdout"
        },
        {
          "output_type": "display_data",
          "data": {
            "image/png": "[encoded data removed]",
            "text/plain": [
              "<Figure size 360x360 with 1 Axes>"
            ]
          },
          "metadata": {
            "tags": [],
            "needs_background": "light"
          }
        }
      ]
    },
    {
      "cell_type": "code",
      "metadata": {
        "id": "HE9ERvkaPMyV",
        "colab_type": "code",
        "colab": {
          "base_uri": "https://localhost:8080/",
          "height": 397
        },
        "outputId": "cca48b20-0ec1-4ef5-c28f-fd977316f336"
      },
      "source": [
        "q = \"are you hungry\"\n",
        "answer(q, training=False)"
      ],
      "execution_count": 45,
      "outputs": [
        {
          "output_type": "stream",
          "text": [
            "Input: are you hungry\n",
            "Predicted answer: i am not sure you are \n"
          ],
          "name": "stdout"
        },
        {
          "output_type": "display_data",
          "data": {
            "image/png": "[encoded data removed]",
            "text/plain": [
              "<Figure size 360x360 with 1 Axes>"
            ]
          },
          "metadata": {
            "tags": [],
            "needs_background": "light"
          }
        }
      ]
    }
  ]
}